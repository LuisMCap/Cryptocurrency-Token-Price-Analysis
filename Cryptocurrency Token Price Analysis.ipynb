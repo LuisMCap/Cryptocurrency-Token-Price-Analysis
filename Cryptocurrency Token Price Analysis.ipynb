{
 "cells": [
  {
   "cell_type": "markdown",
   "id": "5f4b127d",
   "metadata": {},
   "source": [
    "## Project Objectives\n",
    "The main purpose of this project is to see if it exists a relationship between the amount of SLP minted and the amount of SLP burned vs its price in the market. \n",
    "\n",
    "When a token (in this case SLP) is minted, it is creating more of that token and putting it in circulation. On the other hand, when a token is burned it means that it is being permanently removed from the market. If the difference between burned and minted is high, one could expect the price of the token to be lower because there are more of those tokens available, so each token is worth less. However, the opposite is true too. If the difference is low, there are fewer tokens in circulation which, in theory, would mean a higher price. \n",
    "\n",
    "This statement does not take into account the perceived value of the token."
   ]
  },
  {
   "cell_type": "markdown",
   "id": "4cfd597b",
   "metadata": {},
   "source": [
    "## Metadata\n",
    "    - Price\n",
    "        USD exchange for that particular token\n",
    "        Float\n",
    "        \n",
    "    - Date\n",
    "        Date registered for that specific record\n",
    "        Datetime\n",
    "        \n",
    "    - Market Cap\n",
    "        This value is calculated by multiplying the price of the coin times the number of coins in circulation\n",
    "        Float\n",
    "        \n",
    "    - Total Volume\n",
    "        Number of coins traded for that specific record\n",
    "        Float\n",
    "        \n",
    "    - Burned\n",
    "        Amount of the token removed from circulation\n",
    "        Float\n",
    "        \n",
    "    - Minted\n",
    "        Amount of the token added to circulation\n",
    "        Float"
   ]
  },
  {
   "cell_type": "code",
   "execution_count": 1,
   "id": "de583621",
   "metadata": {},
   "outputs": [],
   "source": [
    "#Importing required modules\n",
    "import pandas as pd\n",
    "from matplotlib import pyplot as plt\n",
    "import seaborn as sns\n",
    "import numpy as np\n",
    "import statsmodels.api as sm\n",
    "import statsmodels.formula.api as smf\n",
    "from statsmodels.stats.outliers_influence import variance_inflation_factor\n",
    "from statsmodels.tools.eval_measures import rmse\n",
    "from sklearn.linear_model import LinearRegression\n",
    "from sklearn.model_selection import train_test_split\n",
    "from datetime import datetime\n",
    "from scipy import stats"
   ]
  },
  {
   "cell_type": "markdown",
   "id": "02db6804",
   "metadata": {},
   "source": [
    "## Cleaning"
   ]
  },
  {
   "cell_type": "code",
   "execution_count": 2,
   "id": "6aaf9f8f",
   "metadata": {},
   "outputs": [],
   "source": [
    "#Create a dataframe with one part of the data\n",
    "df_price = pd.read_csv('data/slp-usd-max.csv')"
   ]
  },
  {
   "cell_type": "code",
   "execution_count": 3,
   "id": "b10e5b54",
   "metadata": {},
   "outputs": [
    {
     "data": {
      "text/html": [
       "<div>\n",
       "<style scoped>\n",
       "    .dataframe tbody tr th:only-of-type {\n",
       "        vertical-align: middle;\n",
       "    }\n",
       "\n",
       "    .dataframe tbody tr th {\n",
       "        vertical-align: top;\n",
       "    }\n",
       "\n",
       "    .dataframe thead th {\n",
       "        text-align: right;\n",
       "    }\n",
       "</style>\n",
       "<table border=\"1\" class=\"dataframe\">\n",
       "  <thead>\n",
       "    <tr style=\"text-align: right;\">\n",
       "      <th></th>\n",
       "      <th>snapped_at</th>\n",
       "      <th>price</th>\n",
       "      <th>market_cap</th>\n",
       "      <th>total_volume</th>\n",
       "    </tr>\n",
       "  </thead>\n",
       "  <tbody>\n",
       "    <tr>\n",
       "      <th>0</th>\n",
       "      <td>2020-01-11 00:00:00 UTC</td>\n",
       "      <td>0.031432</td>\n",
       "      <td>4191.260234</td>\n",
       "      <td>1263.369939</td>\n",
       "    </tr>\n",
       "    <tr>\n",
       "      <th>1</th>\n",
       "      <td>2020-01-12 00:00:00 UTC</td>\n",
       "      <td>0.031423</td>\n",
       "      <td>4036.072557</td>\n",
       "      <td>754.819900</td>\n",
       "    </tr>\n",
       "    <tr>\n",
       "      <th>2</th>\n",
       "      <td>2020-01-13 00:00:00 UTC</td>\n",
       "      <td>0.024327</td>\n",
       "      <td>3287.766731</td>\n",
       "      <td>1429.652974</td>\n",
       "    </tr>\n",
       "    <tr>\n",
       "      <th>3</th>\n",
       "      <td>2020-01-14 00:00:00 UTC</td>\n",
       "      <td>0.021101</td>\n",
       "      <td>2911.644945</td>\n",
       "      <td>748.826997</td>\n",
       "    </tr>\n",
       "    <tr>\n",
       "      <th>4</th>\n",
       "      <td>2020-01-15 00:00:00 UTC</td>\n",
       "      <td>0.020363</td>\n",
       "      <td>2718.482353</td>\n",
       "      <td>1834.784649</td>\n",
       "    </tr>\n",
       "  </tbody>\n",
       "</table>\n",
       "</div>"
      ],
      "text/plain": [
       "                snapped_at     price   market_cap  total_volume\n",
       "0  2020-01-11 00:00:00 UTC  0.031432  4191.260234   1263.369939\n",
       "1  2020-01-12 00:00:00 UTC  0.031423  4036.072557    754.819900\n",
       "2  2020-01-13 00:00:00 UTC  0.024327  3287.766731   1429.652974\n",
       "3  2020-01-14 00:00:00 UTC  0.021101  2911.644945    748.826997\n",
       "4  2020-01-15 00:00:00 UTC  0.020363  2718.482353   1834.784649"
      ]
     },
     "execution_count": 3,
     "metadata": {},
     "output_type": "execute_result"
    }
   ],
   "source": [
    "df_price.head()"
   ]
  },
  {
   "cell_type": "code",
   "execution_count": 4,
   "id": "16f8194e",
   "metadata": {},
   "outputs": [
    {
     "data": {
      "text/html": [
       "<div>\n",
       "<style scoped>\n",
       "    .dataframe tbody tr th:only-of-type {\n",
       "        vertical-align: middle;\n",
       "    }\n",
       "\n",
       "    .dataframe tbody tr th {\n",
       "        vertical-align: top;\n",
       "    }\n",
       "\n",
       "    .dataframe thead th {\n",
       "        text-align: right;\n",
       "    }\n",
       "</style>\n",
       "<table border=\"1\" class=\"dataframe\">\n",
       "  <thead>\n",
       "    <tr style=\"text-align: right;\">\n",
       "      <th></th>\n",
       "      <th>date</th>\n",
       "      <th>price</th>\n",
       "      <th>market_cap</th>\n",
       "      <th>total_volume</th>\n",
       "    </tr>\n",
       "  </thead>\n",
       "  <tbody>\n",
       "    <tr>\n",
       "      <th>0</th>\n",
       "      <td>2020-01-11 00:00:00 UTC</td>\n",
       "      <td>0.031432</td>\n",
       "      <td>4191.260234</td>\n",
       "      <td>1263.369939</td>\n",
       "    </tr>\n",
       "    <tr>\n",
       "      <th>1</th>\n",
       "      <td>2020-01-12 00:00:00 UTC</td>\n",
       "      <td>0.031423</td>\n",
       "      <td>4036.072557</td>\n",
       "      <td>754.819900</td>\n",
       "    </tr>\n",
       "    <tr>\n",
       "      <th>2</th>\n",
       "      <td>2020-01-13 00:00:00 UTC</td>\n",
       "      <td>0.024327</td>\n",
       "      <td>3287.766731</td>\n",
       "      <td>1429.652974</td>\n",
       "    </tr>\n",
       "    <tr>\n",
       "      <th>3</th>\n",
       "      <td>2020-01-14 00:00:00 UTC</td>\n",
       "      <td>0.021101</td>\n",
       "      <td>2911.644945</td>\n",
       "      <td>748.826997</td>\n",
       "    </tr>\n",
       "    <tr>\n",
       "      <th>4</th>\n",
       "      <td>2020-01-15 00:00:00 UTC</td>\n",
       "      <td>0.020363</td>\n",
       "      <td>2718.482353</td>\n",
       "      <td>1834.784649</td>\n",
       "    </tr>\n",
       "  </tbody>\n",
       "</table>\n",
       "</div>"
      ],
      "text/plain": [
       "                      date     price   market_cap  total_volume\n",
       "0  2020-01-11 00:00:00 UTC  0.031432  4191.260234   1263.369939\n",
       "1  2020-01-12 00:00:00 UTC  0.031423  4036.072557    754.819900\n",
       "2  2020-01-13 00:00:00 UTC  0.024327  3287.766731   1429.652974\n",
       "3  2020-01-14 00:00:00 UTC  0.021101  2911.644945    748.826997\n",
       "4  2020-01-15 00:00:00 UTC  0.020363  2718.482353   1834.784649"
      ]
     },
     "execution_count": 4,
     "metadata": {},
     "output_type": "execute_result"
    }
   ],
   "source": [
    "#'Changing' snapped_at for date column name\n",
    "df_price.insert(0,'date',df_price['snapped_at'])\n",
    "df_price.drop(columns=['snapped_at'],inplace=True)\n",
    "df_price.head()"
   ]
  },
  {
   "cell_type": "code",
   "execution_count": 5,
   "id": "5eba878c",
   "metadata": {},
   "outputs": [
    {
     "data": {
      "text/html": [
       "<div>\n",
       "<style scoped>\n",
       "    .dataframe tbody tr th:only-of-type {\n",
       "        vertical-align: middle;\n",
       "    }\n",
       "\n",
       "    .dataframe tbody tr th {\n",
       "        vertical-align: top;\n",
       "    }\n",
       "\n",
       "    .dataframe thead th {\n",
       "        text-align: right;\n",
       "    }\n",
       "</style>\n",
       "<table border=\"1\" class=\"dataframe\">\n",
       "  <thead>\n",
       "    <tr style=\"text-align: right;\">\n",
       "      <th></th>\n",
       "      <th>date</th>\n",
       "      <th>price</th>\n",
       "      <th>market_cap</th>\n",
       "      <th>total_volume</th>\n",
       "    </tr>\n",
       "  </thead>\n",
       "  <tbody>\n",
       "    <tr>\n",
       "      <th>0</th>\n",
       "      <td>2020-01-11</td>\n",
       "      <td>0.031432</td>\n",
       "      <td>4191.260234</td>\n",
       "      <td>1263.369939</td>\n",
       "    </tr>\n",
       "    <tr>\n",
       "      <th>1</th>\n",
       "      <td>2020-01-12</td>\n",
       "      <td>0.031423</td>\n",
       "      <td>4036.072557</td>\n",
       "      <td>754.819900</td>\n",
       "    </tr>\n",
       "    <tr>\n",
       "      <th>2</th>\n",
       "      <td>2020-01-13</td>\n",
       "      <td>0.024327</td>\n",
       "      <td>3287.766731</td>\n",
       "      <td>1429.652974</td>\n",
       "    </tr>\n",
       "    <tr>\n",
       "      <th>3</th>\n",
       "      <td>2020-01-14</td>\n",
       "      <td>0.021101</td>\n",
       "      <td>2911.644945</td>\n",
       "      <td>748.826997</td>\n",
       "    </tr>\n",
       "    <tr>\n",
       "      <th>4</th>\n",
       "      <td>2020-01-15</td>\n",
       "      <td>0.020363</td>\n",
       "      <td>2718.482353</td>\n",
       "      <td>1834.784649</td>\n",
       "    </tr>\n",
       "  </tbody>\n",
       "</table>\n",
       "</div>"
      ],
      "text/plain": [
       "        date     price   market_cap  total_volume\n",
       "0 2020-01-11  0.031432  4191.260234   1263.369939\n",
       "1 2020-01-12  0.031423  4036.072557    754.819900\n",
       "2 2020-01-13  0.024327  3287.766731   1429.652974\n",
       "3 2020-01-14  0.021101  2911.644945    748.826997\n",
       "4 2020-01-15  0.020363  2718.482353   1834.784649"
      ]
     },
     "execution_count": 5,
     "metadata": {},
     "output_type": "execute_result"
    }
   ],
   "source": [
    "#Changing datatype to datetime for date\n",
    "df_price['date']=df_price.date.astype('datetime64')\n",
    "df_price.head()"
   ]
  },
  {
   "cell_type": "code",
   "execution_count": 6,
   "id": "f1c3d553",
   "metadata": {},
   "outputs": [
    {
     "name": "stdout",
     "output_type": "stream",
     "text": [
      "<class 'pandas.core.frame.DataFrame'>\n",
      "RangeIndex: 642 entries, 0 to 641\n",
      "Data columns (total 4 columns):\n",
      " #   Column        Non-Null Count  Dtype         \n",
      "---  ------        --------------  -----         \n",
      " 0   date          642 non-null    datetime64[ns]\n",
      " 1   price         642 non-null    float64       \n",
      " 2   market_cap    642 non-null    float64       \n",
      " 3   total_volume  642 non-null    float64       \n",
      "dtypes: datetime64[ns](1), float64(3)\n",
      "memory usage: 20.2 KB\n"
     ]
    }
   ],
   "source": [
    "df_price.info()"
   ]
  },
  {
   "cell_type": "code",
   "execution_count": 7,
   "id": "9168c735",
   "metadata": {},
   "outputs": [
    {
     "data": {
      "text/html": [
       "<div>\n",
       "<style scoped>\n",
       "    .dataframe tbody tr th:only-of-type {\n",
       "        vertical-align: middle;\n",
       "    }\n",
       "\n",
       "    .dataframe tbody tr th {\n",
       "        vertical-align: top;\n",
       "    }\n",
       "\n",
       "    .dataframe thead th {\n",
       "        text-align: right;\n",
       "    }\n",
       "</style>\n",
       "<table border=\"1\" class=\"dataframe\">\n",
       "  <thead>\n",
       "    <tr style=\"text-align: right;\">\n",
       "      <th></th>\n",
       "      <th>Date Raw;Date Parsed;SLP Burned;SLP Minted</th>\n",
       "    </tr>\n",
       "  </thead>\n",
       "  <tbody>\n",
       "    <tr>\n",
       "      <th>0</th>\n",
       "      <td>1576800000000;12/19/2019;300;1321</td>\n",
       "    </tr>\n",
       "    <tr>\n",
       "      <th>1</th>\n",
       "      <td>1576886400000;12/20/2019;8400;10892</td>\n",
       "    </tr>\n",
       "    <tr>\n",
       "      <th>2</th>\n",
       "      <td>1576972800000;12/21/2019;13900;15630</td>\n",
       "    </tr>\n",
       "    <tr>\n",
       "      <th>3</th>\n",
       "      <td>1577059200000;12/22/2019;14100;28534</td>\n",
       "    </tr>\n",
       "    <tr>\n",
       "      <th>4</th>\n",
       "      <td>1577145600000;12/23/2019;16800;21600</td>\n",
       "    </tr>\n",
       "    <tr>\n",
       "      <th>...</th>\n",
       "      <td>...</td>\n",
       "    </tr>\n",
       "    <tr>\n",
       "      <th>659</th>\n",
       "      <td>1633737600000;10/08/2021;54928650;156887400</td>\n",
       "    </tr>\n",
       "    <tr>\n",
       "      <th>660</th>\n",
       "      <td>1633824000000;10/09/2021;55666950;182565379</td>\n",
       "    </tr>\n",
       "    <tr>\n",
       "      <th>661</th>\n",
       "      <td>1633910400000;10/10/2021;71891850;137656470</td>\n",
       "    </tr>\n",
       "    <tr>\n",
       "      <th>662</th>\n",
       "      <td>1633996800000;10/11/2021;67044150;134579340</td>\n",
       "    </tr>\n",
       "    <tr>\n",
       "      <th>663</th>\n",
       "      <td>1634083200000;10/12/2021;11298450;15117709</td>\n",
       "    </tr>\n",
       "  </tbody>\n",
       "</table>\n",
       "<p>664 rows × 1 columns</p>\n",
       "</div>"
      ],
      "text/plain": [
       "      Date Raw;Date Parsed;SLP Burned;SLP Minted\n",
       "0              1576800000000;12/19/2019;300;1321\n",
       "1            1576886400000;12/20/2019;8400;10892\n",
       "2           1576972800000;12/21/2019;13900;15630\n",
       "3           1577059200000;12/22/2019;14100;28534\n",
       "4           1577145600000;12/23/2019;16800;21600\n",
       "..                                           ...\n",
       "659  1633737600000;10/08/2021;54928650;156887400\n",
       "660  1633824000000;10/09/2021;55666950;182565379\n",
       "661  1633910400000;10/10/2021;71891850;137656470\n",
       "662  1633996800000;10/11/2021;67044150;134579340\n",
       "663   1634083200000;10/12/2021;11298450;15117709\n",
       "\n",
       "[664 rows x 1 columns]"
      ]
     },
     "execution_count": 7,
     "metadata": {},
     "output_type": "execute_result"
    }
   ],
   "source": [
    "#Creating another dataframe with the second part and last part of the data\n",
    "df_minted = pd.read_csv('data/slp_issuance.csv')\n",
    "df_minted"
   ]
  },
  {
   "cell_type": "code",
   "execution_count": 8,
   "id": "ee816dff",
   "metadata": {},
   "outputs": [
    {
     "data": {
      "text/html": [
       "<div>\n",
       "<style scoped>\n",
       "    .dataframe tbody tr th:only-of-type {\n",
       "        vertical-align: middle;\n",
       "    }\n",
       "\n",
       "    .dataframe tbody tr th {\n",
       "        vertical-align: top;\n",
       "    }\n",
       "\n",
       "    .dataframe thead th {\n",
       "        text-align: right;\n",
       "    }\n",
       "</style>\n",
       "<table border=\"1\" class=\"dataframe\">\n",
       "  <thead>\n",
       "    <tr style=\"text-align: right;\">\n",
       "      <th></th>\n",
       "      <th>Date Raw;Date Parsed;SLP Burned;SLP Minted</th>\n",
       "      <th>1</th>\n",
       "      <th>2</th>\n",
       "      <th>3</th>\n",
       "    </tr>\n",
       "  </thead>\n",
       "  <tbody>\n",
       "    <tr>\n",
       "      <th>0</th>\n",
       "      <td>1576800000000;12/19/2019;300;1321</td>\n",
       "      <td>12/19/2019</td>\n",
       "      <td>300</td>\n",
       "      <td>1321</td>\n",
       "    </tr>\n",
       "    <tr>\n",
       "      <th>1</th>\n",
       "      <td>1576886400000;12/20/2019;8400;10892</td>\n",
       "      <td>12/20/2019</td>\n",
       "      <td>8400</td>\n",
       "      <td>10892</td>\n",
       "    </tr>\n",
       "    <tr>\n",
       "      <th>2</th>\n",
       "      <td>1576972800000;12/21/2019;13900;15630</td>\n",
       "      <td>12/21/2019</td>\n",
       "      <td>13900</td>\n",
       "      <td>15630</td>\n",
       "    </tr>\n",
       "    <tr>\n",
       "      <th>3</th>\n",
       "      <td>1577059200000;12/22/2019;14100;28534</td>\n",
       "      <td>12/22/2019</td>\n",
       "      <td>14100</td>\n",
       "      <td>28534</td>\n",
       "    </tr>\n",
       "    <tr>\n",
       "      <th>4</th>\n",
       "      <td>1577145600000;12/23/2019;16800;21600</td>\n",
       "      <td>12/23/2019</td>\n",
       "      <td>16800</td>\n",
       "      <td>21600</td>\n",
       "    </tr>\n",
       "    <tr>\n",
       "      <th>...</th>\n",
       "      <td>...</td>\n",
       "      <td>...</td>\n",
       "      <td>...</td>\n",
       "      <td>...</td>\n",
       "    </tr>\n",
       "    <tr>\n",
       "      <th>659</th>\n",
       "      <td>1633737600000;10/08/2021;54928650;156887400</td>\n",
       "      <td>10/08/2021</td>\n",
       "      <td>54928650</td>\n",
       "      <td>156887400</td>\n",
       "    </tr>\n",
       "    <tr>\n",
       "      <th>660</th>\n",
       "      <td>1633824000000;10/09/2021;55666950;182565379</td>\n",
       "      <td>10/09/2021</td>\n",
       "      <td>55666950</td>\n",
       "      <td>182565379</td>\n",
       "    </tr>\n",
       "    <tr>\n",
       "      <th>661</th>\n",
       "      <td>1633910400000;10/10/2021;71891850;137656470</td>\n",
       "      <td>10/10/2021</td>\n",
       "      <td>71891850</td>\n",
       "      <td>137656470</td>\n",
       "    </tr>\n",
       "    <tr>\n",
       "      <th>662</th>\n",
       "      <td>1633996800000;10/11/2021;67044150;134579340</td>\n",
       "      <td>10/11/2021</td>\n",
       "      <td>67044150</td>\n",
       "      <td>134579340</td>\n",
       "    </tr>\n",
       "    <tr>\n",
       "      <th>663</th>\n",
       "      <td>1634083200000;10/12/2021;11298450;15117709</td>\n",
       "      <td>10/12/2021</td>\n",
       "      <td>11298450</td>\n",
       "      <td>15117709</td>\n",
       "    </tr>\n",
       "  </tbody>\n",
       "</table>\n",
       "<p>664 rows × 4 columns</p>\n",
       "</div>"
      ],
      "text/plain": [
       "      Date Raw;Date Parsed;SLP Burned;SLP Minted           1         2  \\\n",
       "0              1576800000000;12/19/2019;300;1321  12/19/2019       300   \n",
       "1            1576886400000;12/20/2019;8400;10892  12/20/2019      8400   \n",
       "2           1576972800000;12/21/2019;13900;15630  12/21/2019     13900   \n",
       "3           1577059200000;12/22/2019;14100;28534  12/22/2019     14100   \n",
       "4           1577145600000;12/23/2019;16800;21600  12/23/2019     16800   \n",
       "..                                           ...         ...       ...   \n",
       "659  1633737600000;10/08/2021;54928650;156887400  10/08/2021  54928650   \n",
       "660  1633824000000;10/09/2021;55666950;182565379  10/09/2021  55666950   \n",
       "661  1633910400000;10/10/2021;71891850;137656470  10/10/2021  71891850   \n",
       "662  1633996800000;10/11/2021;67044150;134579340  10/11/2021  67044150   \n",
       "663   1634083200000;10/12/2021;11298450;15117709  10/12/2021  11298450   \n",
       "\n",
       "             3  \n",
       "0         1321  \n",
       "1        10892  \n",
       "2        15630  \n",
       "3        28534  \n",
       "4        21600  \n",
       "..         ...  \n",
       "659  156887400  \n",
       "660  182565379  \n",
       "661  137656470  \n",
       "662  134579340  \n",
       "663   15117709  \n",
       "\n",
       "[664 rows x 4 columns]"
      ]
     },
     "execution_count": 8,
     "metadata": {},
     "output_type": "execute_result"
    }
   ],
   "source": [
    "#Creating 3 columns, one for each variable (We don't want Date Raw)\n",
    "for i in range(1,4):\n",
    "    df_minted[i] = df_minted['Date Raw;Date Parsed;SLP Burned;SLP Minted'].apply(lambda x:x.split(';')[i])\n",
    "df_minted"
   ]
  },
  {
   "cell_type": "code",
   "execution_count": 9,
   "id": "5af8a5de",
   "metadata": {},
   "outputs": [
    {
     "data": {
      "text/html": [
       "<div>\n",
       "<style scoped>\n",
       "    .dataframe tbody tr th:only-of-type {\n",
       "        vertical-align: middle;\n",
       "    }\n",
       "\n",
       "    .dataframe tbody tr th {\n",
       "        vertical-align: top;\n",
       "    }\n",
       "\n",
       "    .dataframe thead th {\n",
       "        text-align: right;\n",
       "    }\n",
       "</style>\n",
       "<table border=\"1\" class=\"dataframe\">\n",
       "  <thead>\n",
       "    <tr style=\"text-align: right;\">\n",
       "      <th></th>\n",
       "      <th>1</th>\n",
       "      <th>2</th>\n",
       "      <th>3</th>\n",
       "    </tr>\n",
       "  </thead>\n",
       "  <tbody>\n",
       "    <tr>\n",
       "      <th>0</th>\n",
       "      <td>12/19/2019</td>\n",
       "      <td>300</td>\n",
       "      <td>1321</td>\n",
       "    </tr>\n",
       "    <tr>\n",
       "      <th>1</th>\n",
       "      <td>12/20/2019</td>\n",
       "      <td>8400</td>\n",
       "      <td>10892</td>\n",
       "    </tr>\n",
       "    <tr>\n",
       "      <th>2</th>\n",
       "      <td>12/21/2019</td>\n",
       "      <td>13900</td>\n",
       "      <td>15630</td>\n",
       "    </tr>\n",
       "    <tr>\n",
       "      <th>3</th>\n",
       "      <td>12/22/2019</td>\n",
       "      <td>14100</td>\n",
       "      <td>28534</td>\n",
       "    </tr>\n",
       "    <tr>\n",
       "      <th>4</th>\n",
       "      <td>12/23/2019</td>\n",
       "      <td>16800</td>\n",
       "      <td>21600</td>\n",
       "    </tr>\n",
       "  </tbody>\n",
       "</table>\n",
       "</div>"
      ],
      "text/plain": [
       "            1      2      3\n",
       "0  12/19/2019    300   1321\n",
       "1  12/20/2019   8400  10892\n",
       "2  12/21/2019  13900  15630\n",
       "3  12/22/2019  14100  28534\n",
       "4  12/23/2019  16800  21600"
      ]
     },
     "execution_count": 9,
     "metadata": {},
     "output_type": "execute_result"
    }
   ],
   "source": [
    "#Dropping the unnecesary column\n",
    "df_minted.drop(columns=['Date Raw;Date Parsed;SLP Burned;SLP Minted'],inplace=True)\n",
    "df_minted.head()"
   ]
  },
  {
   "cell_type": "code",
   "execution_count": 10,
   "id": "c09213ce",
   "metadata": {},
   "outputs": [
    {
     "data": {
      "text/html": [
       "<div>\n",
       "<style scoped>\n",
       "    .dataframe tbody tr th:only-of-type {\n",
       "        vertical-align: middle;\n",
       "    }\n",
       "\n",
       "    .dataframe tbody tr th {\n",
       "        vertical-align: top;\n",
       "    }\n",
       "\n",
       "    .dataframe thead th {\n",
       "        text-align: right;\n",
       "    }\n",
       "</style>\n",
       "<table border=\"1\" class=\"dataframe\">\n",
       "  <thead>\n",
       "    <tr style=\"text-align: right;\">\n",
       "      <th></th>\n",
       "      <th>date</th>\n",
       "      <th>burned</th>\n",
       "      <th>minted</th>\n",
       "    </tr>\n",
       "  </thead>\n",
       "  <tbody>\n",
       "    <tr>\n",
       "      <th>0</th>\n",
       "      <td>12/19/2019</td>\n",
       "      <td>300</td>\n",
       "      <td>1321</td>\n",
       "    </tr>\n",
       "    <tr>\n",
       "      <th>1</th>\n",
       "      <td>12/20/2019</td>\n",
       "      <td>8400</td>\n",
       "      <td>10892</td>\n",
       "    </tr>\n",
       "    <tr>\n",
       "      <th>2</th>\n",
       "      <td>12/21/2019</td>\n",
       "      <td>13900</td>\n",
       "      <td>15630</td>\n",
       "    </tr>\n",
       "    <tr>\n",
       "      <th>3</th>\n",
       "      <td>12/22/2019</td>\n",
       "      <td>14100</td>\n",
       "      <td>28534</td>\n",
       "    </tr>\n",
       "    <tr>\n",
       "      <th>4</th>\n",
       "      <td>12/23/2019</td>\n",
       "      <td>16800</td>\n",
       "      <td>21600</td>\n",
       "    </tr>\n",
       "  </tbody>\n",
       "</table>\n",
       "</div>"
      ],
      "text/plain": [
       "         date burned minted\n",
       "0  12/19/2019    300   1321\n",
       "1  12/20/2019   8400  10892\n",
       "2  12/21/2019  13900  15630\n",
       "3  12/22/2019  14100  28534\n",
       "4  12/23/2019  16800  21600"
      ]
     },
     "execution_count": 10,
     "metadata": {},
     "output_type": "execute_result"
    }
   ],
   "source": [
    "#Changing column names\n",
    "column_names = ['date','burned','minted']\n",
    "df_minted.columns = [column for column in column_names]\n",
    "df_minted.head()"
   ]
  },
  {
   "cell_type": "code",
   "execution_count": 11,
   "id": "5e43e424",
   "metadata": {},
   "outputs": [
    {
     "name": "stdout",
     "output_type": "stream",
     "text": [
      "<class 'pandas.core.frame.DataFrame'>\n",
      "RangeIndex: 664 entries, 0 to 663\n",
      "Data columns (total 3 columns):\n",
      " #   Column  Non-Null Count  Dtype \n",
      "---  ------  --------------  ----- \n",
      " 0   date    664 non-null    object\n",
      " 1   burned  664 non-null    object\n",
      " 2   minted  664 non-null    object\n",
      "dtypes: object(3)\n",
      "memory usage: 15.7+ KB\n"
     ]
    }
   ],
   "source": [
    "df_minted.info()"
   ]
  },
  {
   "cell_type": "code",
   "execution_count": 12,
   "id": "76e19e7e",
   "metadata": {},
   "outputs": [
    {
     "name": "stdout",
     "output_type": "stream",
     "text": [
      "<class 'pandas.core.frame.DataFrame'>\n",
      "RangeIndex: 664 entries, 0 to 663\n",
      "Data columns (total 3 columns):\n",
      " #   Column  Non-Null Count  Dtype         \n",
      "---  ------  --------------  -----         \n",
      " 0   date    664 non-null    datetime64[ns]\n",
      " 1   burned  664 non-null    float64       \n",
      " 2   minted  664 non-null    float64       \n",
      "dtypes: datetime64[ns](1), float64(2)\n",
      "memory usage: 15.7 KB\n"
     ]
    }
   ],
   "source": [
    "#Changing datatypes to merge them correctly\n",
    "for i in range(1,3):\n",
    "    df_minted[df_minted.columns[i]] = df_minted[df_minted.columns[i]].astype('float')\n",
    "df_minted['date'] = df_minted['date'].astype('datetime64')\n",
    "df_minted.info()"
   ]
  },
  {
   "cell_type": "code",
   "execution_count": 13,
   "id": "97a1d858",
   "metadata": {},
   "outputs": [
    {
     "data": {
      "text/html": [
       "<div>\n",
       "<style scoped>\n",
       "    .dataframe tbody tr th:only-of-type {\n",
       "        vertical-align: middle;\n",
       "    }\n",
       "\n",
       "    .dataframe tbody tr th {\n",
       "        vertical-align: top;\n",
       "    }\n",
       "\n",
       "    .dataframe thead th {\n",
       "        text-align: right;\n",
       "    }\n",
       "</style>\n",
       "<table border=\"1\" class=\"dataframe\">\n",
       "  <thead>\n",
       "    <tr style=\"text-align: right;\">\n",
       "      <th></th>\n",
       "      <th>date</th>\n",
       "      <th>price</th>\n",
       "      <th>market_cap</th>\n",
       "      <th>total_volume</th>\n",
       "      <th>burned</th>\n",
       "      <th>minted</th>\n",
       "    </tr>\n",
       "  </thead>\n",
       "  <tbody>\n",
       "    <tr>\n",
       "      <th>0</th>\n",
       "      <td>2020-01-11</td>\n",
       "      <td>0.031432</td>\n",
       "      <td>4.191260e+03</td>\n",
       "      <td>1.263370e+03</td>\n",
       "      <td>21000.0</td>\n",
       "      <td>44291.0</td>\n",
       "    </tr>\n",
       "    <tr>\n",
       "      <th>1</th>\n",
       "      <td>2020-01-12</td>\n",
       "      <td>0.031423</td>\n",
       "      <td>4.036073e+03</td>\n",
       "      <td>7.548199e+02</td>\n",
       "      <td>25700.0</td>\n",
       "      <td>42146.0</td>\n",
       "    </tr>\n",
       "    <tr>\n",
       "      <th>2</th>\n",
       "      <td>2020-01-13</td>\n",
       "      <td>0.024327</td>\n",
       "      <td>3.287767e+03</td>\n",
       "      <td>1.429653e+03</td>\n",
       "      <td>38400.0</td>\n",
       "      <td>43831.0</td>\n",
       "    </tr>\n",
       "    <tr>\n",
       "      <th>3</th>\n",
       "      <td>2020-01-14</td>\n",
       "      <td>0.021101</td>\n",
       "      <td>2.911645e+03</td>\n",
       "      <td>7.488270e+02</td>\n",
       "      <td>44800.0</td>\n",
       "      <td>37664.0</td>\n",
       "    </tr>\n",
       "    <tr>\n",
       "      <th>4</th>\n",
       "      <td>2020-01-15</td>\n",
       "      <td>0.020363</td>\n",
       "      <td>2.718482e+03</td>\n",
       "      <td>1.834785e+03</td>\n",
       "      <td>59000.0</td>\n",
       "      <td>60227.0</td>\n",
       "    </tr>\n",
       "    <tr>\n",
       "      <th>...</th>\n",
       "      <td>...</td>\n",
       "      <td>...</td>\n",
       "      <td>...</td>\n",
       "      <td>...</td>\n",
       "      <td>...</td>\n",
       "      <td>...</td>\n",
       "    </tr>\n",
       "    <tr>\n",
       "      <th>636</th>\n",
       "      <td>2021-10-08</td>\n",
       "      <td>0.088812</td>\n",
       "      <td>1.901225e+08</td>\n",
       "      <td>4.910256e+08</td>\n",
       "      <td>54928650.0</td>\n",
       "      <td>156887400.0</td>\n",
       "    </tr>\n",
       "    <tr>\n",
       "      <th>637</th>\n",
       "      <td>2021-10-09</td>\n",
       "      <td>0.085835</td>\n",
       "      <td>1.842053e+08</td>\n",
       "      <td>2.867441e+08</td>\n",
       "      <td>55666950.0</td>\n",
       "      <td>182565379.0</td>\n",
       "    </tr>\n",
       "    <tr>\n",
       "      <th>638</th>\n",
       "      <td>2021-10-10</td>\n",
       "      <td>0.083279</td>\n",
       "      <td>1.792277e+08</td>\n",
       "      <td>1.723503e+08</td>\n",
       "      <td>71891850.0</td>\n",
       "      <td>137656470.0</td>\n",
       "    </tr>\n",
       "    <tr>\n",
       "      <th>639</th>\n",
       "      <td>2021-10-11</td>\n",
       "      <td>0.074867</td>\n",
       "      <td>1.610610e+08</td>\n",
       "      <td>1.777404e+08</td>\n",
       "      <td>67044150.0</td>\n",
       "      <td>134579340.0</td>\n",
       "    </tr>\n",
       "    <tr>\n",
       "      <th>640</th>\n",
       "      <td>2021-10-12</td>\n",
       "      <td>0.071139</td>\n",
       "      <td>1.516589e+08</td>\n",
       "      <td>2.303232e+08</td>\n",
       "      <td>11298450.0</td>\n",
       "      <td>15117709.0</td>\n",
       "    </tr>\n",
       "  </tbody>\n",
       "</table>\n",
       "<p>641 rows × 6 columns</p>\n",
       "</div>"
      ],
      "text/plain": [
       "          date     price    market_cap  total_volume      burned       minted\n",
       "0   2020-01-11  0.031432  4.191260e+03  1.263370e+03     21000.0      44291.0\n",
       "1   2020-01-12  0.031423  4.036073e+03  7.548199e+02     25700.0      42146.0\n",
       "2   2020-01-13  0.024327  3.287767e+03  1.429653e+03     38400.0      43831.0\n",
       "3   2020-01-14  0.021101  2.911645e+03  7.488270e+02     44800.0      37664.0\n",
       "4   2020-01-15  0.020363  2.718482e+03  1.834785e+03     59000.0      60227.0\n",
       "..         ...       ...           ...           ...         ...          ...\n",
       "636 2021-10-08  0.088812  1.901225e+08  4.910256e+08  54928650.0  156887400.0\n",
       "637 2021-10-09  0.085835  1.842053e+08  2.867441e+08  55666950.0  182565379.0\n",
       "638 2021-10-10  0.083279  1.792277e+08  1.723503e+08  71891850.0  137656470.0\n",
       "639 2021-10-11  0.074867  1.610610e+08  1.777404e+08  67044150.0  134579340.0\n",
       "640 2021-10-12  0.071139  1.516589e+08  2.303232e+08  11298450.0   15117709.0\n",
       "\n",
       "[641 rows x 6 columns]"
      ]
     },
     "execution_count": 13,
     "metadata": {},
     "output_type": "execute_result"
    }
   ],
   "source": [
    "#Merging dataframes\n",
    "df = df_price.merge(df_minted,how='inner',on='date')\n",
    "df"
   ]
  },
  {
   "cell_type": "code",
   "execution_count": 14,
   "id": "1867d181",
   "metadata": {},
   "outputs": [],
   "source": [
    "#Creating a new variable with the difference between burned and minted in case of multicolinearity\n",
    "df['delta'] = df['burned'] - df['minted'] "
   ]
  },
  {
   "cell_type": "code",
   "execution_count": 15,
   "id": "e194535a",
   "metadata": {
    "scrolled": true
   },
   "outputs": [
    {
     "name": "stdout",
     "output_type": "stream",
     "text": [
      "<class 'pandas.core.frame.DataFrame'>\n",
      "Int64Index: 641 entries, 0 to 640\n",
      "Data columns (total 7 columns):\n",
      " #   Column        Non-Null Count  Dtype         \n",
      "---  ------        --------------  -----         \n",
      " 0   date          641 non-null    datetime64[ns]\n",
      " 1   price         641 non-null    float64       \n",
      " 2   market_cap    641 non-null    float64       \n",
      " 3   total_volume  641 non-null    float64       \n",
      " 4   burned        641 non-null    float64       \n",
      " 5   minted        641 non-null    float64       \n",
      " 6   delta         641 non-null    float64       \n",
      "dtypes: datetime64[ns](1), float64(6)\n",
      "memory usage: 40.1 KB\n"
     ]
    }
   ],
   "source": [
    "df.info()"
   ]
  },
  {
   "cell_type": "code",
   "execution_count": 16,
   "id": "2a20cbb4",
   "metadata": {},
   "outputs": [
    {
     "data": {
      "text/html": [
       "<div>\n",
       "<style scoped>\n",
       "    .dataframe tbody tr th:only-of-type {\n",
       "        vertical-align: middle;\n",
       "    }\n",
       "\n",
       "    .dataframe tbody tr th {\n",
       "        vertical-align: top;\n",
       "    }\n",
       "\n",
       "    .dataframe thead th {\n",
       "        text-align: right;\n",
       "    }\n",
       "</style>\n",
       "<table border=\"1\" class=\"dataframe\">\n",
       "  <thead>\n",
       "    <tr style=\"text-align: right;\">\n",
       "      <th></th>\n",
       "      <th>date</th>\n",
       "      <th>price</th>\n",
       "      <th>market_cap</th>\n",
       "      <th>total_volume</th>\n",
       "      <th>burned</th>\n",
       "      <th>minted</th>\n",
       "      <th>delta</th>\n",
       "    </tr>\n",
       "  </thead>\n",
       "  <tbody>\n",
       "    <tr>\n",
       "      <th>0</th>\n",
       "      <td>2020-01-11</td>\n",
       "      <td>0.031432</td>\n",
       "      <td>4191.260234</td>\n",
       "      <td>1263.369939</td>\n",
       "      <td>21000.0</td>\n",
       "      <td>44291.0</td>\n",
       "      <td>-23291.0</td>\n",
       "    </tr>\n",
       "    <tr>\n",
       "      <th>1</th>\n",
       "      <td>2020-01-12</td>\n",
       "      <td>0.031423</td>\n",
       "      <td>4036.072557</td>\n",
       "      <td>754.819900</td>\n",
       "      <td>25700.0</td>\n",
       "      <td>42146.0</td>\n",
       "      <td>-16446.0</td>\n",
       "    </tr>\n",
       "    <tr>\n",
       "      <th>2</th>\n",
       "      <td>2020-01-13</td>\n",
       "      <td>0.024327</td>\n",
       "      <td>3287.766731</td>\n",
       "      <td>1429.652974</td>\n",
       "      <td>38400.0</td>\n",
       "      <td>43831.0</td>\n",
       "      <td>-5431.0</td>\n",
       "    </tr>\n",
       "    <tr>\n",
       "      <th>3</th>\n",
       "      <td>2020-01-14</td>\n",
       "      <td>0.021101</td>\n",
       "      <td>2911.644945</td>\n",
       "      <td>748.826997</td>\n",
       "      <td>44800.0</td>\n",
       "      <td>37664.0</td>\n",
       "      <td>7136.0</td>\n",
       "    </tr>\n",
       "    <tr>\n",
       "      <th>4</th>\n",
       "      <td>2020-01-15</td>\n",
       "      <td>0.020363</td>\n",
       "      <td>2718.482353</td>\n",
       "      <td>1834.784649</td>\n",
       "      <td>59000.0</td>\n",
       "      <td>60227.0</td>\n",
       "      <td>-1227.0</td>\n",
       "    </tr>\n",
       "  </tbody>\n",
       "</table>\n",
       "</div>"
      ],
      "text/plain": [
       "        date     price   market_cap  total_volume   burned   minted    delta\n",
       "0 2020-01-11  0.031432  4191.260234   1263.369939  21000.0  44291.0 -23291.0\n",
       "1 2020-01-12  0.031423  4036.072557    754.819900  25700.0  42146.0 -16446.0\n",
       "2 2020-01-13  0.024327  3287.766731   1429.652974  38400.0  43831.0  -5431.0\n",
       "3 2020-01-14  0.021101  2911.644945    748.826997  44800.0  37664.0   7136.0\n",
       "4 2020-01-15  0.020363  2718.482353   1834.784649  59000.0  60227.0  -1227.0"
      ]
     },
     "execution_count": 16,
     "metadata": {},
     "output_type": "execute_result"
    }
   ],
   "source": [
    "df.head()"
   ]
  },
  {
   "cell_type": "markdown",
   "id": "79ba4e44",
   "metadata": {},
   "source": [
    "## Data Exploration"
   ]
  },
  {
   "cell_type": "code",
   "execution_count": 17,
   "id": "8e4269ca",
   "metadata": {},
   "outputs": [
    {
     "data": {
      "image/png": "[encoded data removed]",
      "text/plain": [
       "<Figure size 720x432 with 1 Axes>"
      ]
     },
     "metadata": {},
     "output_type": "display_data"
    }
   ],
   "source": [
    "#Plotting SLP Price\n",
    "from matplotlib import rcParams\n",
    "rcParams['figure.figsize'] = 10,6\n",
    "plt.style.use(plt.style.available[6])\n",
    "plt.plot(df['date'],df['price'],color='#0583D2')\n",
    "plt.grid(True,color='k',linestyle=':')\n",
    "plt.xlabel('Date')\n",
    "plt.ylabel('Price')\n",
    "plt.title('SLP Price (USD)')\n",
    "plt.show()"
   ]
  },
  {
   "cell_type": "code",
   "execution_count": 18,
   "id": "b54f5937",
   "metadata": {},
   "outputs": [
    {
     "name": "stdout",
     "output_type": "stream",
     "text": [
      "<class 'pandas.core.frame.DataFrame'>\n",
      "Int64Index: 641 entries, 0 to 640\n",
      "Data columns (total 7 columns):\n",
      " #   Column        Non-Null Count  Dtype         \n",
      "---  ------        --------------  -----         \n",
      " 0   date          641 non-null    datetime64[ns]\n",
      " 1   price         641 non-null    float64       \n",
      " 2   market_cap    641 non-null    float64       \n",
      " 3   total_volume  641 non-null    float64       \n",
      " 4   burned        641 non-null    float64       \n",
      " 5   minted        641 non-null    float64       \n",
      " 6   delta         641 non-null    float64       \n",
      "dtypes: datetime64[ns](1), float64(6)\n",
      "memory usage: 40.1 KB\n"
     ]
    }
   ],
   "source": [
    "df.info()"
   ]
  },
  {
   "cell_type": "code",
   "execution_count": 19,
   "id": "45c35962",
   "metadata": {},
   "outputs": [
    {
     "data": {
      "text/html": [
       "<div>\n",
       "<style scoped>\n",
       "    .dataframe tbody tr th:only-of-type {\n",
       "        vertical-align: middle;\n",
       "    }\n",
       "\n",
       "    .dataframe tbody tr th {\n",
       "        vertical-align: top;\n",
       "    }\n",
       "\n",
       "    .dataframe thead th {\n",
       "        text-align: right;\n",
       "    }\n",
       "</style>\n",
       "<table border=\"1\" class=\"dataframe\">\n",
       "  <thead>\n",
       "    <tr style=\"text-align: right;\">\n",
       "      <th></th>\n",
       "      <th>price</th>\n",
       "      <th>market_cap</th>\n",
       "      <th>total_volume</th>\n",
       "      <th>burned</th>\n",
       "      <th>minted</th>\n",
       "      <th>delta</th>\n",
       "    </tr>\n",
       "  </thead>\n",
       "  <tbody>\n",
       "    <tr>\n",
       "      <th>count</th>\n",
       "      <td>641.000000</td>\n",
       "      <td>6.410000e+02</td>\n",
       "      <td>6.410000e+02</td>\n",
       "      <td>6.410000e+02</td>\n",
       "      <td>6.410000e+02</td>\n",
       "      <td>6.410000e+02</td>\n",
       "    </tr>\n",
       "    <tr>\n",
       "      <th>mean</th>\n",
       "      <td>0.061995</td>\n",
       "      <td>3.792451e+07</td>\n",
       "      <td>3.421522e+07</td>\n",
       "      <td>8.935127e+06</td>\n",
       "      <td>2.195730e+07</td>\n",
       "      <td>-1.302217e+07</td>\n",
       "    </tr>\n",
       "    <tr>\n",
       "      <th>std</th>\n",
       "      <td>0.072552</td>\n",
       "      <td>6.658660e+07</td>\n",
       "      <td>9.862830e+07</td>\n",
       "      <td>1.834164e+07</td>\n",
       "      <td>5.439050e+07</td>\n",
       "      <td>4.110643e+07</td>\n",
       "    </tr>\n",
       "    <tr>\n",
       "      <th>min</th>\n",
       "      <td>0.003285</td>\n",
       "      <td>6.823771e+02</td>\n",
       "      <td>9.099685e+01</td>\n",
       "      <td>0.000000e+00</td>\n",
       "      <td>4.912000e+03</td>\n",
       "      <td>-4.097606e+08</td>\n",
       "    </tr>\n",
       "    <tr>\n",
       "      <th>25%</th>\n",
       "      <td>0.013017</td>\n",
       "      <td>7.632527e+03</td>\n",
       "      <td>1.380538e+03</td>\n",
       "      <td>2.100000e+04</td>\n",
       "      <td>6.948700e+04</td>\n",
       "      <td>-1.927668e+06</td>\n",
       "    </tr>\n",
       "    <tr>\n",
       "      <th>50%</th>\n",
       "      <td>0.031432</td>\n",
       "      <td>1.450759e+06</td>\n",
       "      <td>2.750560e+05</td>\n",
       "      <td>8.840000e+04</td>\n",
       "      <td>7.130860e+05</td>\n",
       "      <td>-2.485870e+05</td>\n",
       "    </tr>\n",
       "    <tr>\n",
       "      <th>75%</th>\n",
       "      <td>0.076083</td>\n",
       "      <td>5.601004e+07</td>\n",
       "      <td>1.411811e+07</td>\n",
       "      <td>1.186800e+06</td>\n",
       "      <td>5.857813e+06</td>\n",
       "      <td>-1.115400e+04</td>\n",
       "    </tr>\n",
       "    <tr>\n",
       "      <th>max</th>\n",
       "      <td>0.364533</td>\n",
       "      <td>2.894132e+08</td>\n",
       "      <td>1.250885e+09</td>\n",
       "      <td>1.117772e+08</td>\n",
       "      <td>4.432466e+08</td>\n",
       "      <td>2.849750e+07</td>\n",
       "    </tr>\n",
       "  </tbody>\n",
       "</table>\n",
       "</div>"
      ],
      "text/plain": [
       "            price    market_cap  total_volume        burned        minted  \\\n",
       "count  641.000000  6.410000e+02  6.410000e+02  6.410000e+02  6.410000e+02   \n",
       "mean     0.061995  3.792451e+07  3.421522e+07  8.935127e+06  2.195730e+07   \n",
       "std      0.072552  6.658660e+07  9.862830e+07  1.834164e+07  5.439050e+07   \n",
       "min      0.003285  6.823771e+02  9.099685e+01  0.000000e+00  4.912000e+03   \n",
       "25%      0.013017  7.632527e+03  1.380538e+03  2.100000e+04  6.948700e+04   \n",
       "50%      0.031432  1.450759e+06  2.750560e+05  8.840000e+04  7.130860e+05   \n",
       "75%      0.076083  5.601004e+07  1.411811e+07  1.186800e+06  5.857813e+06   \n",
       "max      0.364533  2.894132e+08  1.250885e+09  1.117772e+08  4.432466e+08   \n",
       "\n",
       "              delta  \n",
       "count  6.410000e+02  \n",
       "mean  -1.302217e+07  \n",
       "std    4.110643e+07  \n",
       "min   -4.097606e+08  \n",
       "25%   -1.927668e+06  \n",
       "50%   -2.485870e+05  \n",
       "75%   -1.115400e+04  \n",
       "max    2.849750e+07  "
      ]
     },
     "execution_count": 19,
     "metadata": {},
     "output_type": "execute_result"
    }
   ],
   "source": [
    "df.describe()"
   ]
  },
  {
   "cell_type": "code",
   "execution_count": 20,
   "id": "f7441ba8",
   "metadata": {
    "scrolled": false
   },
   "outputs": [
    {
     "data": {
      "image/png": "[encoded data removed]",
      "text/plain": [
       "<Figure size 432x288 with 1 Axes>"
      ]
     },
     "metadata": {},
     "output_type": "display_data"
    },
    {
     "data": {
      "image/png": "[encoded data removed]",
      "text/plain": [
       "<Figure size 432x288 with 1 Axes>"
      ]
     },
     "metadata": {},
     "output_type": "display_data"
    },
    {
     "data": {
      "image/png": "[encoded data removed]",
      "text/plain": [
       "<Figure size 432x288 with 1 Axes>"
      ]
     },
     "metadata": {},
     "output_type": "display_data"
    },
    {
     "data": {
      "image/png": "[encoded data removed]",
      "text/plain": [
       "<Figure size 432x288 with 1 Axes>"
      ]
     },
     "metadata": {},
     "output_type": "display_data"
    },
    {
     "data": {
      "image/png": "[encoded data removed]",
      "text/plain": [
       "<Figure size 432x288 with 1 Axes>"
      ]
     },
     "metadata": {},
     "output_type": "display_data"
    },
    {
     "data": {
      "image/png": "[encoded data removed]",
      "text/plain": [
       "<Figure size 432x288 with 1 Axes>"
      ]
     },
     "metadata": {},
     "output_type": "display_data"
    }
   ],
   "source": [
    "#Printing histograms for all numerical attributes\n",
    "plt.rcParams['figure.figsize'] = [6, 4]\n",
    "for i in df.columns[1:]:\n",
    "    plt.style.use(plt.style.available[6])\n",
    "    plt.hist(df[i])\n",
    "    plt.title('%s histogram'%i.capitalize().replace('_',' '))\n",
    "    plt.ylabel('Frequency')\n",
    "    plt.xlabel(i.capitalize().replace('_',' '))\n",
    "    plt.show()"
   ]
  },
  {
   "cell_type": "markdown",
   "id": "b0f15e48",
   "metadata": {},
   "source": [
    "All numerical columns seem to be not normally distributed. Normalizing is an option, but delta has\n",
    "negative values, so log normalization is out."
   ]
  },
  {
   "cell_type": "code",
   "execution_count": 21,
   "id": "af23557f",
   "metadata": {
    "scrolled": false
   },
   "outputs": [
    {
     "data": {
      "text/plain": [
       "<AxesSubplot:>"
      ]
     },
     "execution_count": 21,
     "metadata": {},
     "output_type": "execute_result"
    },
    {
     "data": {
      "image/png": "[encoded data removed]",
      "text/plain": [
       "<Figure size 432x288 with 2 Axes>"
      ]
     },
     "metadata": {},
     "output_type": "display_data"
    }
   ],
   "source": [
    "#Seeing the relationship of all variables\n",
    "sns.heatmap(df.corr())"
   ]
  },
  {
   "cell_type": "markdown",
   "id": "602c19b9",
   "metadata": {},
   "source": [
    "The reason I decided to create a new variable called delta is to avoid collinearity. All variables have a relationship with each other, and we want them to have a relationship with our output variable, price. For this reason, we are going to drop burned and minted, and use delta (the difference between burned and minted). We will also explore total_volume and market_cap since there seems to be a correlation between these two variables."
   ]
  },
  {
   "cell_type": "code",
   "execution_count": 22,
   "id": "2b8b88f0",
   "metadata": {},
   "outputs": [],
   "source": [
    "#Setting our input variable (market cap, total volume, delta) and output variable (price)\n",
    "predictors = ['market_cap','total_volume','delta']\n",
    "output_variable = 'price'"
   ]
  },
  {
   "cell_type": "code",
   "execution_count": 23,
   "id": "4598a2ca",
   "metadata": {},
   "outputs": [
    {
     "data": {
      "image/png": "[encoded data removed]",
      "text/plain": [
       "<Figure size 432x288 with 1 Axes>"
      ]
     },
     "metadata": {},
     "output_type": "display_data"
    },
    {
     "data": {
      "image/png": "[encoded data removed]",
      "text/plain": [
       "<Figure size 432x288 with 1 Axes>"
      ]
     },
     "metadata": {},
     "output_type": "display_data"
    },
    {
     "data": {
      "image/png": "[encoded data removed]",
      "text/plain": [
       "<Figure size 432x288 with 1 Axes>"
      ]
     },
     "metadata": {},
     "output_type": "display_data"
    }
   ],
   "source": [
    "#Scatter plot of each predictor variable vs output variable\n",
    "for predictor in predictors:\n",
    "    plt.style.use(plt.style.available[6])\n",
    "    plt.scatter(df[predictor],df[output_variable])\n",
    "    plt.title('%s and %s relationship'%(predictor.title().replace('_',' '),output_variable.title()))\n",
    "    plt.xlabel(predictor.capitalize().replace('_',' '))\n",
    "    plt.ylabel(output_variable.capitalize())\n",
    "    plt.show()"
   ]
  },
  {
   "cell_type": "markdown",
   "id": "d0c10d48",
   "metadata": {},
   "source": [
    "## Exploring outliers"
   ]
  },
  {
   "cell_type": "code",
   "execution_count": 24,
   "id": "ab36a752",
   "metadata": {},
   "outputs": [
    {
     "data": {
      "text/plain": [
       "array([476, 477, 477, 478, 478, 479, 480, 549, 550, 550, 551, 552, 557,\n",
       "       557, 557, 558, 559, 560, 561, 562, 564, 578, 581, 581, 593, 594,\n",
       "       595, 596, 596, 596, 597, 597, 597, 600, 601, 601, 602, 603, 604,\n",
       "       605, 612, 612, 613, 620, 620, 621, 622, 622, 623, 623, 624, 626,\n",
       "       627, 627, 628, 628, 628, 629, 629, 630, 630, 631, 631, 632, 632,\n",
       "       633, 634, 634, 635, 636, 638, 639], dtype=int64)"
      ]
     },
     "execution_count": 24,
     "metadata": {},
     "output_type": "execute_result"
    }
   ],
   "source": [
    "#Get every z score and get every value where z is higher than 3.\n",
    "z = np.abs(stats.zscore(df[df.columns[1:]]))\n",
    "outliers= np.where(z>3)\n",
    "outliers_index = outliers[0]\n",
    "outliers_index"
   ]
  },
  {
   "cell_type": "code",
   "execution_count": 25,
   "id": "79d81ec0",
   "metadata": {},
   "outputs": [
    {
     "data": {
      "text/html": [
       "<div>\n",
       "<style scoped>\n",
       "    .dataframe tbody tr th:only-of-type {\n",
       "        vertical-align: middle;\n",
       "    }\n",
       "\n",
       "    .dataframe tbody tr th {\n",
       "        vertical-align: top;\n",
       "    }\n",
       "\n",
       "    .dataframe thead th {\n",
       "        text-align: right;\n",
       "    }\n",
       "</style>\n",
       "<table border=\"1\" class=\"dataframe\">\n",
       "  <thead>\n",
       "    <tr style=\"text-align: right;\">\n",
       "      <th></th>\n",
       "      <th>date</th>\n",
       "      <th>price</th>\n",
       "      <th>market_cap</th>\n",
       "      <th>total_volume</th>\n",
       "      <th>burned</th>\n",
       "      <th>minted</th>\n",
       "      <th>delta</th>\n",
       "    </tr>\n",
       "  </thead>\n",
       "  <tbody>\n",
       "    <tr>\n",
       "      <th>0</th>\n",
       "      <td>2020-01-11</td>\n",
       "      <td>0.031432</td>\n",
       "      <td>4.191260e+03</td>\n",
       "      <td>1.263370e+03</td>\n",
       "      <td>21000.0</td>\n",
       "      <td>44291.0</td>\n",
       "      <td>-23291.0</td>\n",
       "    </tr>\n",
       "    <tr>\n",
       "      <th>1</th>\n",
       "      <td>2020-01-12</td>\n",
       "      <td>0.031423</td>\n",
       "      <td>4.036073e+03</td>\n",
       "      <td>7.548199e+02</td>\n",
       "      <td>25700.0</td>\n",
       "      <td>42146.0</td>\n",
       "      <td>-16446.0</td>\n",
       "    </tr>\n",
       "    <tr>\n",
       "      <th>2</th>\n",
       "      <td>2020-01-13</td>\n",
       "      <td>0.024327</td>\n",
       "      <td>3.287767e+03</td>\n",
       "      <td>1.429653e+03</td>\n",
       "      <td>38400.0</td>\n",
       "      <td>43831.0</td>\n",
       "      <td>-5431.0</td>\n",
       "    </tr>\n",
       "    <tr>\n",
       "      <th>3</th>\n",
       "      <td>2020-01-14</td>\n",
       "      <td>0.021101</td>\n",
       "      <td>2.911645e+03</td>\n",
       "      <td>7.488270e+02</td>\n",
       "      <td>44800.0</td>\n",
       "      <td>37664.0</td>\n",
       "      <td>7136.0</td>\n",
       "    </tr>\n",
       "    <tr>\n",
       "      <th>4</th>\n",
       "      <td>2020-01-15</td>\n",
       "      <td>0.020363</td>\n",
       "      <td>2.718482e+03</td>\n",
       "      <td>1.834785e+03</td>\n",
       "      <td>59000.0</td>\n",
       "      <td>60227.0</td>\n",
       "      <td>-1227.0</td>\n",
       "    </tr>\n",
       "    <tr>\n",
       "      <th>...</th>\n",
       "      <td>...</td>\n",
       "      <td>...</td>\n",
       "      <td>...</td>\n",
       "      <td>...</td>\n",
       "      <td>...</td>\n",
       "      <td>...</td>\n",
       "      <td>...</td>\n",
       "    </tr>\n",
       "    <tr>\n",
       "      <th>636</th>\n",
       "      <td>2021-10-08</td>\n",
       "      <td>0.088812</td>\n",
       "      <td>1.901225e+08</td>\n",
       "      <td>4.910256e+08</td>\n",
       "      <td>54928650.0</td>\n",
       "      <td>156887400.0</td>\n",
       "      <td>-101958750.0</td>\n",
       "    </tr>\n",
       "    <tr>\n",
       "      <th>637</th>\n",
       "      <td>2021-10-09</td>\n",
       "      <td>0.085835</td>\n",
       "      <td>1.842053e+08</td>\n",
       "      <td>2.867441e+08</td>\n",
       "      <td>55666950.0</td>\n",
       "      <td>182565379.0</td>\n",
       "      <td>-126898429.0</td>\n",
       "    </tr>\n",
       "    <tr>\n",
       "      <th>638</th>\n",
       "      <td>2021-10-10</td>\n",
       "      <td>0.083279</td>\n",
       "      <td>1.792277e+08</td>\n",
       "      <td>1.723503e+08</td>\n",
       "      <td>71891850.0</td>\n",
       "      <td>137656470.0</td>\n",
       "      <td>-65764620.0</td>\n",
       "    </tr>\n",
       "    <tr>\n",
       "      <th>639</th>\n",
       "      <td>2021-10-11</td>\n",
       "      <td>0.074867</td>\n",
       "      <td>1.610610e+08</td>\n",
       "      <td>1.777404e+08</td>\n",
       "      <td>67044150.0</td>\n",
       "      <td>134579340.0</td>\n",
       "      <td>-67535190.0</td>\n",
       "    </tr>\n",
       "    <tr>\n",
       "      <th>640</th>\n",
       "      <td>2021-10-12</td>\n",
       "      <td>0.071139</td>\n",
       "      <td>1.516589e+08</td>\n",
       "      <td>2.303232e+08</td>\n",
       "      <td>11298450.0</td>\n",
       "      <td>15117709.0</td>\n",
       "      <td>-3819259.0</td>\n",
       "    </tr>\n",
       "  </tbody>\n",
       "</table>\n",
       "<p>641 rows × 7 columns</p>\n",
       "</div>"
      ],
      "text/plain": [
       "          date     price    market_cap  total_volume      burned       minted  \\\n",
       "0   2020-01-11  0.031432  4.191260e+03  1.263370e+03     21000.0      44291.0   \n",
       "1   2020-01-12  0.031423  4.036073e+03  7.548199e+02     25700.0      42146.0   \n",
       "2   2020-01-13  0.024327  3.287767e+03  1.429653e+03     38400.0      43831.0   \n",
       "3   2020-01-14  0.021101  2.911645e+03  7.488270e+02     44800.0      37664.0   \n",
       "4   2020-01-15  0.020363  2.718482e+03  1.834785e+03     59000.0      60227.0   \n",
       "..         ...       ...           ...           ...         ...          ...   \n",
       "636 2021-10-08  0.088812  1.901225e+08  4.910256e+08  54928650.0  156887400.0   \n",
       "637 2021-10-09  0.085835  1.842053e+08  2.867441e+08  55666950.0  182565379.0   \n",
       "638 2021-10-10  0.083279  1.792277e+08  1.723503e+08  71891850.0  137656470.0   \n",
       "639 2021-10-11  0.074867  1.610610e+08  1.777404e+08  67044150.0  134579340.0   \n",
       "640 2021-10-12  0.071139  1.516589e+08  2.303232e+08  11298450.0   15117709.0   \n",
       "\n",
       "           delta  \n",
       "0       -23291.0  \n",
       "1       -16446.0  \n",
       "2        -5431.0  \n",
       "3         7136.0  \n",
       "4        -1227.0  \n",
       "..           ...  \n",
       "636 -101958750.0  \n",
       "637 -126898429.0  \n",
       "638  -65764620.0  \n",
       "639  -67535190.0  \n",
       "640   -3819259.0  \n",
       "\n",
       "[641 rows x 7 columns]"
      ]
     },
     "execution_count": 25,
     "metadata": {},
     "output_type": "execute_result"
    }
   ],
   "source": [
    "#Making a copy of the dataframe to elimante outliers\n",
    "df1 = df.copy()\n",
    "df1"
   ]
  },
  {
   "cell_type": "code",
   "execution_count": 26,
   "id": "5fb190ab",
   "metadata": {},
   "outputs": [
    {
     "data": {
      "text/html": [
       "<div>\n",
       "<style scoped>\n",
       "    .dataframe tbody tr th:only-of-type {\n",
       "        vertical-align: middle;\n",
       "    }\n",
       "\n",
       "    .dataframe tbody tr th {\n",
       "        vertical-align: top;\n",
       "    }\n",
       "\n",
       "    .dataframe thead th {\n",
       "        text-align: right;\n",
       "    }\n",
       "</style>\n",
       "<table border=\"1\" class=\"dataframe\">\n",
       "  <thead>\n",
       "    <tr style=\"text-align: right;\">\n",
       "      <th></th>\n",
       "      <th>date</th>\n",
       "      <th>price</th>\n",
       "      <th>market_cap</th>\n",
       "      <th>total_volume</th>\n",
       "      <th>burned</th>\n",
       "      <th>minted</th>\n",
       "      <th>delta</th>\n",
       "    </tr>\n",
       "  </thead>\n",
       "  <tbody>\n",
       "    <tr>\n",
       "      <th>0</th>\n",
       "      <td>2020-01-11</td>\n",
       "      <td>0.031432</td>\n",
       "      <td>4.191260e+03</td>\n",
       "      <td>1.263370e+03</td>\n",
       "      <td>21000.0</td>\n",
       "      <td>44291.0</td>\n",
       "      <td>-23291.0</td>\n",
       "    </tr>\n",
       "    <tr>\n",
       "      <th>1</th>\n",
       "      <td>2020-01-12</td>\n",
       "      <td>0.031423</td>\n",
       "      <td>4.036073e+03</td>\n",
       "      <td>7.548199e+02</td>\n",
       "      <td>25700.0</td>\n",
       "      <td>42146.0</td>\n",
       "      <td>-16446.0</td>\n",
       "    </tr>\n",
       "    <tr>\n",
       "      <th>2</th>\n",
       "      <td>2020-01-13</td>\n",
       "      <td>0.024327</td>\n",
       "      <td>3.287767e+03</td>\n",
       "      <td>1.429653e+03</td>\n",
       "      <td>38400.0</td>\n",
       "      <td>43831.0</td>\n",
       "      <td>-5431.0</td>\n",
       "    </tr>\n",
       "    <tr>\n",
       "      <th>3</th>\n",
       "      <td>2020-01-14</td>\n",
       "      <td>0.021101</td>\n",
       "      <td>2.911645e+03</td>\n",
       "      <td>7.488270e+02</td>\n",
       "      <td>44800.0</td>\n",
       "      <td>37664.0</td>\n",
       "      <td>7136.0</td>\n",
       "    </tr>\n",
       "    <tr>\n",
       "      <th>4</th>\n",
       "      <td>2020-01-15</td>\n",
       "      <td>0.020363</td>\n",
       "      <td>2.718482e+03</td>\n",
       "      <td>1.834785e+03</td>\n",
       "      <td>59000.0</td>\n",
       "      <td>60227.0</td>\n",
       "      <td>-1227.0</td>\n",
       "    </tr>\n",
       "    <tr>\n",
       "      <th>...</th>\n",
       "      <td>...</td>\n",
       "      <td>...</td>\n",
       "      <td>...</td>\n",
       "      <td>...</td>\n",
       "      <td>...</td>\n",
       "      <td>...</td>\n",
       "      <td>...</td>\n",
       "    </tr>\n",
       "    <tr>\n",
       "      <th>618</th>\n",
       "      <td>2021-09-20</td>\n",
       "      <td>0.075980</td>\n",
       "      <td>1.630785e+08</td>\n",
       "      <td>7.994140e+07</td>\n",
       "      <td>38289600.0</td>\n",
       "      <td>133478587.0</td>\n",
       "      <td>-95188987.0</td>\n",
       "    </tr>\n",
       "    <tr>\n",
       "      <th>619</th>\n",
       "      <td>2021-09-21</td>\n",
       "      <td>0.063437</td>\n",
       "      <td>1.351199e+08</td>\n",
       "      <td>1.304500e+08</td>\n",
       "      <td>36512400.0</td>\n",
       "      <td>126634723.0</td>\n",
       "      <td>-90122323.0</td>\n",
       "    </tr>\n",
       "    <tr>\n",
       "      <th>625</th>\n",
       "      <td>2021-09-27</td>\n",
       "      <td>0.066286</td>\n",
       "      <td>1.421442e+08</td>\n",
       "      <td>1.166047e+08</td>\n",
       "      <td>61690500.0</td>\n",
       "      <td>148316545.0</td>\n",
       "      <td>-86626045.0</td>\n",
       "    </tr>\n",
       "    <tr>\n",
       "      <th>637</th>\n",
       "      <td>2021-10-09</td>\n",
       "      <td>0.085835</td>\n",
       "      <td>1.842053e+08</td>\n",
       "      <td>2.867441e+08</td>\n",
       "      <td>55666950.0</td>\n",
       "      <td>182565379.0</td>\n",
       "      <td>-126898429.0</td>\n",
       "    </tr>\n",
       "    <tr>\n",
       "      <th>640</th>\n",
       "      <td>2021-10-12</td>\n",
       "      <td>0.071139</td>\n",
       "      <td>1.516589e+08</td>\n",
       "      <td>2.303232e+08</td>\n",
       "      <td>11298450.0</td>\n",
       "      <td>15117709.0</td>\n",
       "      <td>-3819259.0</td>\n",
       "    </tr>\n",
       "  </tbody>\n",
       "</table>\n",
       "<p>592 rows × 7 columns</p>\n",
       "</div>"
      ],
      "text/plain": [
       "          date     price    market_cap  total_volume      burned       minted  \\\n",
       "0   2020-01-11  0.031432  4.191260e+03  1.263370e+03     21000.0      44291.0   \n",
       "1   2020-01-12  0.031423  4.036073e+03  7.548199e+02     25700.0      42146.0   \n",
       "2   2020-01-13  0.024327  3.287767e+03  1.429653e+03     38400.0      43831.0   \n",
       "3   2020-01-14  0.021101  2.911645e+03  7.488270e+02     44800.0      37664.0   \n",
       "4   2020-01-15  0.020363  2.718482e+03  1.834785e+03     59000.0      60227.0   \n",
       "..         ...       ...           ...           ...         ...          ...   \n",
       "618 2021-09-20  0.075980  1.630785e+08  7.994140e+07  38289600.0  133478587.0   \n",
       "619 2021-09-21  0.063437  1.351199e+08  1.304500e+08  36512400.0  126634723.0   \n",
       "625 2021-09-27  0.066286  1.421442e+08  1.166047e+08  61690500.0  148316545.0   \n",
       "637 2021-10-09  0.085835  1.842053e+08  2.867441e+08  55666950.0  182565379.0   \n",
       "640 2021-10-12  0.071139  1.516589e+08  2.303232e+08  11298450.0   15117709.0   \n",
       "\n",
       "           delta  \n",
       "0       -23291.0  \n",
       "1       -16446.0  \n",
       "2        -5431.0  \n",
       "3         7136.0  \n",
       "4        -1227.0  \n",
       "..           ...  \n",
       "618  -95188987.0  \n",
       "619  -90122323.0  \n",
       "625  -86626045.0  \n",
       "637 -126898429.0  \n",
       "640   -3819259.0  \n",
       "\n",
       "[592 rows x 7 columns]"
      ]
     },
     "execution_count": 26,
     "metadata": {},
     "output_type": "execute_result"
    }
   ],
   "source": [
    "#Deleting outliers\n",
    "for outlier in set(outliers_index):\n",
    "    df1.drop(index=[outlier],inplace=True)\n",
    "df1"
   ]
  },
  {
   "cell_type": "code",
   "execution_count": 27,
   "id": "1916316e",
   "metadata": {},
   "outputs": [
    {
     "data": {
      "image/png": "[encoded data removed]",
      "text/plain": [
       "<Figure size 432x288 with 1 Axes>"
      ]
     },
     "metadata": {},
     "output_type": "display_data"
    },
    {
     "data": {
      "image/png": "[encoded data removed]",
      "text/plain": [
       "<Figure size 432x288 with 1 Axes>"
      ]
     },
     "metadata": {},
     "output_type": "display_data"
    },
    {
     "data": {
      "image/png": "[encoded data removed]",
      "text/plain": [
       "<Figure size 432x288 with 1 Axes>"
      ]
     },
     "metadata": {},
     "output_type": "display_data"
    }
   ],
   "source": [
    "#Seeing the relationship between the output variable and predictors after eliminating outliers\n",
    "for predictor in predictors:\n",
    "    plt.style.use(plt.style.available[6])\n",
    "    plt.scatter(df1[predictor],df1[output_variable])\n",
    "    plt.title('%s and %s relationship'%(predictor.title().replace('_',' '),output_variable.title()))\n",
    "    plt.xlabel(predictor.title().replace('_',' '))\n",
    "    plt.ylabel(output_variable.title())\n",
    "    plt.show()"
   ]
  },
  {
   "cell_type": "markdown",
   "id": "305b7f1c",
   "metadata": {},
   "source": [
    "It looks like removing the outliers helped spreading the data points."
   ]
  },
  {
   "cell_type": "markdown",
   "id": "9bca0eca",
   "metadata": {},
   "source": [
    "## Model Building"
   ]
  },
  {
   "cell_type": "code",
   "execution_count": 28,
   "id": "f9bddbc4",
   "metadata": {},
   "outputs": [],
   "source": [
    "#Setting our y variable and x variable to build our model\n",
    "df1.columns\n",
    "y_variable = df1['price']\n",
    "x_variables = df1[['delta','market_cap','total_volume']]"
   ]
  },
  {
   "cell_type": "code",
   "execution_count": 29,
   "id": "91ba6bfd",
   "metadata": {},
   "outputs": [],
   "source": [
    "#Splitting the data with 20% for testing and 80% for training\n",
    "X_train, X_test, y_train, y_test = train_test_split(x_variables,y_variable,test_size =0.20)"
   ]
  },
  {
   "cell_type": "code",
   "execution_count": 30,
   "id": "2e31bbf1",
   "metadata": {},
   "outputs": [
    {
     "data": {
      "text/html": [
       "<div>\n",
       "<style scoped>\n",
       "    .dataframe tbody tr th:only-of-type {\n",
       "        vertical-align: middle;\n",
       "    }\n",
       "\n",
       "    .dataframe tbody tr th {\n",
       "        vertical-align: top;\n",
       "    }\n",
       "\n",
       "    .dataframe thead th {\n",
       "        text-align: right;\n",
       "    }\n",
       "</style>\n",
       "<table border=\"1\" class=\"dataframe\">\n",
       "  <thead>\n",
       "    <tr style=\"text-align: right;\">\n",
       "      <th></th>\n",
       "      <th>delta</th>\n",
       "      <th>market_cap</th>\n",
       "      <th>total_volume</th>\n",
       "      <th>price</th>\n",
       "    </tr>\n",
       "  </thead>\n",
       "  <tbody>\n",
       "    <tr>\n",
       "      <th>235</th>\n",
       "      <td>-224076.0</td>\n",
       "      <td>7.726638e+05</td>\n",
       "      <td>8.395395e+04</td>\n",
       "      <td>0.064039</td>\n",
       "    </tr>\n",
       "    <tr>\n",
       "      <th>347</th>\n",
       "      <td>-518847.0</td>\n",
       "      <td>2.256285e+06</td>\n",
       "      <td>1.397685e+05</td>\n",
       "      <td>0.027288</td>\n",
       "    </tr>\n",
       "    <tr>\n",
       "      <th>185</th>\n",
       "      <td>-46302.0</td>\n",
       "      <td>9.212123e+04</td>\n",
       "      <td>2.844484e+04</td>\n",
       "      <td>0.022278</td>\n",
       "    </tr>\n",
       "    <tr>\n",
       "      <th>534</th>\n",
       "      <td>-7599039.0</td>\n",
       "      <td>7.289814e+07</td>\n",
       "      <td>1.505032e+07</td>\n",
       "      <td>0.135016</td>\n",
       "    </tr>\n",
       "    <tr>\n",
       "      <th>329</th>\n",
       "      <td>-1610313.0</td>\n",
       "      <td>1.403438e+06</td>\n",
       "      <td>1.574272e+05</td>\n",
       "      <td>0.022906</td>\n",
       "    </tr>\n",
       "    <tr>\n",
       "      <th>...</th>\n",
       "      <td>...</td>\n",
       "      <td>...</td>\n",
       "      <td>...</td>\n",
       "      <td>...</td>\n",
       "    </tr>\n",
       "    <tr>\n",
       "      <th>82</th>\n",
       "      <td>-2528.0</td>\n",
       "      <td>1.024710e+03</td>\n",
       "      <td>1.874689e+02</td>\n",
       "      <td>0.007682</td>\n",
       "    </tr>\n",
       "    <tr>\n",
       "      <th>413</th>\n",
       "      <td>-1887866.0</td>\n",
       "      <td>8.600112e+06</td>\n",
       "      <td>1.321473e+06</td>\n",
       "      <td>0.036734</td>\n",
       "    </tr>\n",
       "    <tr>\n",
       "      <th>529</th>\n",
       "      <td>-2487366.0</td>\n",
       "      <td>6.596260e+07</td>\n",
       "      <td>3.579949e+07</td>\n",
       "      <td>0.122074</td>\n",
       "    </tr>\n",
       "    <tr>\n",
       "      <th>353</th>\n",
       "      <td>-297142.0</td>\n",
       "      <td>1.900103e+06</td>\n",
       "      <td>1.336539e+05</td>\n",
       "      <td>0.021861</td>\n",
       "    </tr>\n",
       "    <tr>\n",
       "      <th>296</th>\n",
       "      <td>-215350.0</td>\n",
       "      <td>1.072783e+06</td>\n",
       "      <td>3.254904e+05</td>\n",
       "      <td>0.028747</td>\n",
       "    </tr>\n",
       "  </tbody>\n",
       "</table>\n",
       "<p>473 rows × 4 columns</p>\n",
       "</div>"
      ],
      "text/plain": [
       "         delta    market_cap  total_volume     price\n",
       "235  -224076.0  7.726638e+05  8.395395e+04  0.064039\n",
       "347  -518847.0  2.256285e+06  1.397685e+05  0.027288\n",
       "185   -46302.0  9.212123e+04  2.844484e+04  0.022278\n",
       "534 -7599039.0  7.289814e+07  1.505032e+07  0.135016\n",
       "329 -1610313.0  1.403438e+06  1.574272e+05  0.022906\n",
       "..         ...           ...           ...       ...\n",
       "82     -2528.0  1.024710e+03  1.874689e+02  0.007682\n",
       "413 -1887866.0  8.600112e+06  1.321473e+06  0.036734\n",
       "529 -2487366.0  6.596260e+07  3.579949e+07  0.122074\n",
       "353  -297142.0  1.900103e+06  1.336539e+05  0.021861\n",
       "296  -215350.0  1.072783e+06  3.254904e+05  0.028747\n",
       "\n",
       "[473 rows x 4 columns]"
      ]
     },
     "execution_count": 30,
     "metadata": {},
     "output_type": "execute_result"
    }
   ],
   "source": [
    "#Training dataframe\n",
    "data = pd.concat([X_train,y_train],axis=1)\n",
    "data"
   ]
  },
  {
   "cell_type": "code",
   "execution_count": 31,
   "id": "9b33aadf",
   "metadata": {},
   "outputs": [
    {
     "name": "stdout",
     "output_type": "stream",
     "text": [
      "      predictor                      coef                   pvalue\n",
      "          delta   -1.0282324071943515e-09   1.7161126578167102e-16\n",
      "     market_cap     9.082702795321336e-10  2.2502852436863814e-102\n",
      "   total_volume     9.422521574790439e-10    4.210917201436629e-64\n"
     ]
    }
   ],
   "source": [
    "#P-values and coefficient of each variable\n",
    "predictors = ['delta','market_cap','total_volume']\n",
    "model = 'price ~'\n",
    "print(\"{:>15} {:>25} {:>24}\".format(\"predictor\", \"coef\",\"pvalue\"))\n",
    "for predictor in predictors:\n",
    "    model = 'price ~' + predictor\n",
    "    res = smf.ols(formula = model, data = data).fit()\n",
    "    print(\"{:>15} {:>25} {:>24}\".format(predictor, res.params[predictor],res.pvalues[predictor]))"
   ]
  },
  {
   "cell_type": "code",
   "execution_count": 32,
   "id": "a143fe69",
   "metadata": {},
   "outputs": [
    {
     "name": "stdout",
     "output_type": "stream",
     "text": [
      "                            OLS Regression Results                            \n",
      "==============================================================================\n",
      "Dep. Variable:                  price   R-squared:                       0.735\n",
      "Model:                            OLS   Adj. R-squared:                  0.734\n",
      "Method:                 Least Squares   F-statistic:                     434.7\n",
      "Date:                Wed, 24 Nov 2021   Prob (F-statistic):          5.48e-135\n",
      "Time:                        23:16:55   Log-Likelihood:                 956.20\n",
      "No. Observations:                 473   AIC:                            -1904.\n",
      "Df Residuals:                     469   BIC:                            -1888.\n",
      "Df Model:                           3                                         \n",
      "Covariance Type:            nonrobust                                         \n",
      "================================================================================\n",
      "                   coef    std err          t      P>|t|      [0.025      0.975]\n",
      "--------------------------------------------------------------------------------\n",
      "Intercept        0.0272      0.002     16.290      0.000       0.024       0.030\n",
      "delta         1.396e-09   9.98e-11     13.994      0.000     1.2e-09    1.59e-09\n",
      "market_cap    1.327e-09   6.01e-11     22.057      0.000    1.21e-09    1.44e-09\n",
      "total_volume   1.04e-11    6.3e-11      0.165      0.869   -1.13e-10    1.34e-10\n",
      "==============================================================================\n",
      "Omnibus:                      182.556   Durbin-Watson:                   2.025\n",
      "Prob(Omnibus):                  0.000   Jarque-Bera (JB):             1895.235\n",
      "Skew:                           1.364   Prob(JB):                         0.00\n",
      "Kurtosis:                      12.419   Cond. No.                     8.66e+07\n",
      "==============================================================================\n",
      "\n",
      "Notes:\n",
      "[1] Standard Errors assume that the covariance matrix of the errors is correctly specified.\n",
      "[2] The condition number is large, 8.66e+07. This might indicate that there are\n",
      "strong multicollinearity or other numerical problems.\n"
     ]
    }
   ],
   "source": [
    "#Linear regression model\n",
    "all_columns = \"+\".join(predictors)\n",
    "model = \"price ~\" + all_columns\n",
    "res = smf.ols(formula = model, data=data).fit()\n",
    "print(res.summary())"
   ]
  },
  {
   "cell_type": "code",
   "execution_count": 33,
   "id": "85172108",
   "metadata": {},
   "outputs": [
    {
     "data": {
      "text/html": [
       "<div>\n",
       "<style scoped>\n",
       "    .dataframe tbody tr th:only-of-type {\n",
       "        vertical-align: middle;\n",
       "    }\n",
       "\n",
       "    .dataframe tbody tr th {\n",
       "        vertical-align: top;\n",
       "    }\n",
       "\n",
       "    .dataframe thead th {\n",
       "        text-align: right;\n",
       "    }\n",
       "</style>\n",
       "<table border=\"1\" class=\"dataframe\">\n",
       "  <thead>\n",
       "    <tr style=\"text-align: right;\">\n",
       "      <th></th>\n",
       "      <th>predictors</th>\n",
       "      <th>VIF</th>\n",
       "    </tr>\n",
       "  </thead>\n",
       "  <tbody>\n",
       "    <tr>\n",
       "      <th>0</th>\n",
       "      <td>delta</td>\n",
       "      <td>2.410932</td>\n",
       "    </tr>\n",
       "    <tr>\n",
       "      <th>1</th>\n",
       "      <td>market_cap</td>\n",
       "      <td>5.513075</td>\n",
       "    </tr>\n",
       "    <tr>\n",
       "      <th>2</th>\n",
       "      <td>total_volume</td>\n",
       "      <td>4.118578</td>\n",
       "    </tr>\n",
       "  </tbody>\n",
       "</table>\n",
       "</div>"
      ],
      "text/plain": [
       "     predictors       VIF\n",
       "0         delta  2.410932\n",
       "1    market_cap  5.513075\n",
       "2  total_volume  4.118578"
      ]
     },
     "execution_count": 33,
     "metadata": {},
     "output_type": "execute_result"
    }
   ],
   "source": [
    "#Ploting Variance Inflation Factor to test for multicollinearity\n",
    "vif_predictors = data[predictors]\n",
    "vif_data = pd.DataFrame()\n",
    "vif_data[\"predictors\"] = vif_predictors.columns\n",
    "vif_data[\"VIF\"] = [variance_inflation_factor(vif_predictors.values, i) for i in range(len(vif_predictors.columns))]\n",
    "vif_data"
   ]
  },
  {
   "cell_type": "markdown",
   "id": "1e33d5fb",
   "metadata": {},
   "source": [
    "A value of VIF less than 5 is usually considered good. We saw earlier that market cap and total volume had a high correlation between them. There is evidence to infer that we might have multicollinearity"
   ]
  },
  {
   "cell_type": "code",
   "execution_count": 34,
   "id": "ac1898c0",
   "metadata": {},
   "outputs": [
    {
     "data": {
      "image/png": "[encoded data removed]",
      "text/plain": [
       "<Figure size 432x288 with 1 Axes>"
      ]
     },
     "metadata": {},
     "output_type": "display_data"
    }
   ],
   "source": [
    "plt.scatter(df1['market_cap'],df1['total_volume'])\n",
    "plt.title('Market cap and Total volume scatter')\n",
    "plt.xlabel('Market Cap')\n",
    "plt.ylabel('total_volume')\n",
    "plt.show()"
   ]
  },
  {
   "cell_type": "markdown",
   "id": "54f413ac",
   "metadata": {},
   "source": [
    "Let's run the model with each market cap and delta, and total volume and delta as our predictor variables"
   ]
  },
  {
   "cell_type": "code",
   "execution_count": 35,
   "id": "2741151e",
   "metadata": {},
   "outputs": [
    {
     "name": "stdout",
     "output_type": "stream",
     "text": [
      "Linear Regression with predictors: Market Cap, Delta:\n",
      "\n",
      "                            OLS Regression Results                            \n",
      "==============================================================================\n",
      "Dep. Variable:                  price   R-squared:                       0.735\n",
      "Model:                            OLS   Adj. R-squared:                  0.734\n",
      "Method:                 Least Squares   F-statistic:                     653.3\n",
      "Date:                Wed, 24 Nov 2021   Prob (F-statistic):          1.92e-136\n",
      "Time:                        23:16:56   Log-Likelihood:                 956.19\n",
      "No. Observations:                 473   AIC:                            -1906.\n",
      "Df Residuals:                     470   BIC:                            -1894.\n",
      "Df Model:                           2                                         \n",
      "Covariance Type:            nonrobust                                         \n",
      "==============================================================================\n",
      "                 coef    std err          t      P>|t|      [0.025      0.975]\n",
      "------------------------------------------------------------------------------\n",
      "Intercept      0.0271      0.002     16.334      0.000       0.024       0.030\n",
      "market_cap  1.334e-09   4.08e-11     32.679      0.000    1.25e-09    1.41e-09\n",
      "delta       1.396e-09   9.97e-11     14.009      0.000     1.2e-09    1.59e-09\n",
      "==============================================================================\n",
      "Omnibus:                      182.483   Durbin-Watson:                   2.026\n",
      "Prob(Omnibus):                  0.000   Jarque-Bera (JB):             1875.723\n",
      "Skew:                           1.366   Prob(JB):                         0.00\n",
      "Kurtosis:                      12.365   Cond. No.                     7.12e+07\n",
      "==============================================================================\n",
      "\n",
      "Notes:\n",
      "[1] Standard Errors assume that the covariance matrix of the errors is correctly specified.\n",
      "[2] The condition number is large, 7.12e+07. This might indicate that there are\n",
      "strong multicollinearity or other numerical problems.\n",
      "\n",
      "\n",
      "Linear Regression with predictors: Total Volume, Delta:\n",
      "\n",
      "                            OLS Regression Results                            \n",
      "==============================================================================\n",
      "Dep. Variable:                  price   R-squared:                       0.461\n",
      "Model:                            OLS   Adj. R-squared:                  0.459\n",
      "Method:                 Least Squares   F-statistic:                     201.1\n",
      "Date:                Wed, 24 Nov 2021   Prob (F-statistic):           8.10e-64\n",
      "Time:                        23:16:56   Log-Likelihood:                 787.90\n",
      "No. Observations:                 473   AIC:                            -1570.\n",
      "Df Residuals:                     470   BIC:                            -1557.\n",
      "Df Model:                           2                                         \n",
      "Covariance Type:            nonrobust                                         \n",
      "================================================================================\n",
      "                   coef    std err          t      P>|t|      [0.025      0.975]\n",
      "--------------------------------------------------------------------------------\n",
      "Intercept        0.0383      0.002     16.922      0.000       0.034       0.043\n",
      "total_volume   1.03e-09    6.1e-11     16.879      0.000     9.1e-10    1.15e-09\n",
      "delta         2.781e-10   1.23e-10      2.270      0.024    3.73e-11    5.19e-10\n",
      "==============================================================================\n",
      "Omnibus:                       87.265   Durbin-Watson:                   1.976\n",
      "Prob(Omnibus):                  0.000   Jarque-Bera (JB):              554.397\n",
      "Skew:                           0.610   Prob(JB):                    4.11e-121\n",
      "Kurtosis:                       8.161   Cond. No.                     5.43e+07\n",
      "==============================================================================\n",
      "\n",
      "Notes:\n",
      "[1] Standard Errors assume that the covariance matrix of the errors is correctly specified.\n",
      "[2] The condition number is large, 5.43e+07. This might indicate that there are\n",
      "strong multicollinearity or other numerical problems.\n"
     ]
    }
   ],
   "source": [
    "#Linear regression model with Market Cap and delta as input variables\n",
    "predictors = ['market_cap','delta']\n",
    "print('Linear Regression with predictors: Market Cap, Delta:\\n')\n",
    "all_columns = \"+\".join(predictors)\n",
    "model = \"price ~\" + all_columns\n",
    "res = smf.ols(formula = model, data=data).fit()\n",
    "print(res.summary())\n",
    "\n",
    "print('\\n')\n",
    "#Linear regression model with Total volume and delta as input variables\n",
    "predictors = ['total_volume','delta']\n",
    "print('Linear Regression with predictors: Total Volume, Delta:\\n')\n",
    "all_columns = \"+\".join(predictors)\n",
    "model = \"price ~\" + all_columns\n",
    "res = smf.ols(formula = model, data=data).fit()\n",
    "print(res.summary())"
   ]
  },
  {
   "cell_type": "markdown",
   "id": "9f6bd3ed",
   "metadata": {},
   "source": [
    "R-Squared does not increase that much when we include total volume. This is another evidence of multicolinearity. We should keep delta and market cap only even though total volume is significant to build our model"
   ]
  },
  {
   "cell_type": "code",
   "execution_count": 36,
   "id": "46474dca",
   "metadata": {},
   "outputs": [
    {
     "name": "stdout",
     "output_type": "stream",
     "text": [
      "                            OLS Regression Results                            \n",
      "==============================================================================\n",
      "Dep. Variable:                  price   R-squared:                       0.735\n",
      "Model:                            OLS   Adj. R-squared:                  0.734\n",
      "Method:                 Least Squares   F-statistic:                     653.3\n",
      "Date:                Wed, 24 Nov 2021   Prob (F-statistic):          1.92e-136\n",
      "Time:                        23:16:56   Log-Likelihood:                 956.19\n",
      "No. Observations:                 473   AIC:                            -1906.\n",
      "Df Residuals:                     470   BIC:                            -1894.\n",
      "Df Model:                           2                                         \n",
      "Covariance Type:            nonrobust                                         \n",
      "==============================================================================\n",
      "                 coef    std err          t      P>|t|      [0.025      0.975]\n",
      "------------------------------------------------------------------------------\n",
      "Intercept      0.0271      0.002     16.334      0.000       0.024       0.030\n",
      "market_cap  1.334e-09   4.08e-11     32.679      0.000    1.25e-09    1.41e-09\n",
      "delta       1.396e-09   9.97e-11     14.009      0.000     1.2e-09    1.59e-09\n",
      "==============================================================================\n",
      "Omnibus:                      182.483   Durbin-Watson:                   2.026\n",
      "Prob(Omnibus):                  0.000   Jarque-Bera (JB):             1875.723\n",
      "Skew:                           1.366   Prob(JB):                         0.00\n",
      "Kurtosis:                      12.365   Cond. No.                     7.12e+07\n",
      "==============================================================================\n",
      "\n",
      "Notes:\n",
      "[1] Standard Errors assume that the covariance matrix of the errors is correctly specified.\n",
      "[2] The condition number is large, 7.12e+07. This might indicate that there are\n",
      "strong multicollinearity or other numerical problems.\n"
     ]
    }
   ],
   "source": [
    "#Final linear regression model\n",
    "predictors = ['market_cap','delta']\n",
    "all_columns = \"+\".join(predictors)\n",
    "model = \"price ~\" + all_columns\n",
    "res = smf.ols(formula = model, data=data).fit()\n",
    "print(res.summary())"
   ]
  },
  {
   "cell_type": "code",
   "execution_count": 37,
   "id": "63eb97e6",
   "metadata": {},
   "outputs": [
    {
     "data": {
      "text/html": [
       "<div>\n",
       "<style scoped>\n",
       "    .dataframe tbody tr th:only-of-type {\n",
       "        vertical-align: middle;\n",
       "    }\n",
       "\n",
       "    .dataframe tbody tr th {\n",
       "        vertical-align: top;\n",
       "    }\n",
       "\n",
       "    .dataframe thead th {\n",
       "        text-align: right;\n",
       "    }\n",
       "</style>\n",
       "<table border=\"1\" class=\"dataframe\">\n",
       "  <thead>\n",
       "    <tr style=\"text-align: right;\">\n",
       "      <th></th>\n",
       "      <th>predictors</th>\n",
       "      <th>VIF</th>\n",
       "    </tr>\n",
       "  </thead>\n",
       "  <tbody>\n",
       "    <tr>\n",
       "      <th>0</th>\n",
       "      <td>market_cap</td>\n",
       "      <td>2.410895</td>\n",
       "    </tr>\n",
       "    <tr>\n",
       "      <th>1</th>\n",
       "      <td>delta</td>\n",
       "      <td>2.410895</td>\n",
       "    </tr>\n",
       "  </tbody>\n",
       "</table>\n",
       "</div>"
      ],
      "text/plain": [
       "   predictors       VIF\n",
       "0  market_cap  2.410895\n",
       "1       delta  2.410895"
      ]
     },
     "execution_count": 37,
     "metadata": {},
     "output_type": "execute_result"
    }
   ],
   "source": [
    "vif_predictors = data[predictors]\n",
    "vif_data = pd.DataFrame()\n",
    "vif_data[\"predictors\"] = vif_predictors.columns\n",
    "vif_data[\"VIF\"] = [variance_inflation_factor(vif_predictors.values, i) for i in range(len(vif_predictors.columns))]\n",
    "vif_data"
   ]
  },
  {
   "cell_type": "markdown",
   "id": "d5e2e541",
   "metadata": {},
   "source": [
    "We get a value of less than 5 for each input variable. There is no evidence of multicoloniearity in the model anymore."
   ]
  },
  {
   "cell_type": "markdown",
   "id": "a8be7f63",
   "metadata": {},
   "source": [
    "## Testing Predictive Model"
   ]
  },
  {
   "cell_type": "code",
   "execution_count": 38,
   "id": "77c90831",
   "metadata": {},
   "outputs": [],
   "source": [
    "#Predicting the values using the model built\n",
    "predicted_values = res.predict(X_test)"
   ]
  },
  {
   "cell_type": "code",
   "execution_count": 39,
   "id": "673dd49e",
   "metadata": {},
   "outputs": [
    {
     "data": {
      "text/html": [
       "<div>\n",
       "<style scoped>\n",
       "    .dataframe tbody tr th:only-of-type {\n",
       "        vertical-align: middle;\n",
       "    }\n",
       "\n",
       "    .dataframe tbody tr th {\n",
       "        vertical-align: top;\n",
       "    }\n",
       "\n",
       "    .dataframe thead th {\n",
       "        text-align: right;\n",
       "    }\n",
       "</style>\n",
       "<table border=\"1\" class=\"dataframe\">\n",
       "  <thead>\n",
       "    <tr style=\"text-align: right;\">\n",
       "      <th></th>\n",
       "      <th>date</th>\n",
       "      <th>price</th>\n",
       "      <th>predicted_price</th>\n",
       "    </tr>\n",
       "  </thead>\n",
       "  <tbody>\n",
       "    <tr>\n",
       "      <th>2</th>\n",
       "      <td>2020-01-13</td>\n",
       "      <td>0.024327</td>\n",
       "      <td>0.027137</td>\n",
       "    </tr>\n",
       "    <tr>\n",
       "      <th>5</th>\n",
       "      <td>2020-01-16</td>\n",
       "      <td>0.018997</td>\n",
       "      <td>0.027120</td>\n",
       "    </tr>\n",
       "    <tr>\n",
       "      <th>6</th>\n",
       "      <td>2020-01-17</td>\n",
       "      <td>0.019613</td>\n",
       "      <td>0.027112</td>\n",
       "    </tr>\n",
       "    <tr>\n",
       "      <th>7</th>\n",
       "      <td>2020-01-18</td>\n",
       "      <td>0.020253</td>\n",
       "      <td>0.027142</td>\n",
       "    </tr>\n",
       "    <tr>\n",
       "      <th>20</th>\n",
       "      <td>2020-01-31</td>\n",
       "      <td>0.011805</td>\n",
       "      <td>0.027064</td>\n",
       "    </tr>\n",
       "    <tr>\n",
       "      <th>...</th>\n",
       "      <td>...</td>\n",
       "      <td>...</td>\n",
       "      <td>...</td>\n",
       "    </tr>\n",
       "    <tr>\n",
       "      <th>572</th>\n",
       "      <td>2021-08-05</td>\n",
       "      <td>0.215982</td>\n",
       "      <td>0.098680</td>\n",
       "    </tr>\n",
       "    <tr>\n",
       "      <th>592</th>\n",
       "      <td>2021-08-25</td>\n",
       "      <td>0.141472</td>\n",
       "      <td>0.261166</td>\n",
       "    </tr>\n",
       "    <tr>\n",
       "      <th>608</th>\n",
       "      <td>2021-09-10</td>\n",
       "      <td>0.097484</td>\n",
       "      <td>0.212497</td>\n",
       "    </tr>\n",
       "    <tr>\n",
       "      <th>615</th>\n",
       "      <td>2021-09-17</td>\n",
       "      <td>0.087601</td>\n",
       "      <td>0.103170</td>\n",
       "    </tr>\n",
       "    <tr>\n",
       "      <th>619</th>\n",
       "      <td>2021-09-21</td>\n",
       "      <td>0.063437</td>\n",
       "      <td>0.081563</td>\n",
       "    </tr>\n",
       "  </tbody>\n",
       "</table>\n",
       "<p>119 rows × 3 columns</p>\n",
       "</div>"
      ],
      "text/plain": [
       "          date     price  predicted_price\n",
       "2   2020-01-13  0.024327         0.027137\n",
       "5   2020-01-16  0.018997         0.027120\n",
       "6   2020-01-17  0.019613         0.027112\n",
       "7   2020-01-18  0.020253         0.027142\n",
       "20  2020-01-31  0.011805         0.027064\n",
       "..         ...       ...              ...\n",
       "572 2021-08-05  0.215982         0.098680\n",
       "592 2021-08-25  0.141472         0.261166\n",
       "608 2021-09-10  0.097484         0.212497\n",
       "615 2021-09-17  0.087601         0.103170\n",
       "619 2021-09-21  0.063437         0.081563\n",
       "\n",
       "[119 rows x 3 columns]"
      ]
     },
     "execution_count": 39,
     "metadata": {},
     "output_type": "execute_result"
    }
   ],
   "source": [
    "#Creating a dataframe with the predicted values and actual values\n",
    "predicted_vs_actual = pd.concat([df['date'],y_test,predicted_values],axis=1).dropna()\n",
    "predicted_vs_actual.rename(columns={0:'predicted_price'},inplace=True)\n",
    "predicted_vs_actual['date'] = predicted_vs_actual['date'].astype('datetime64')\n",
    "predicted_vs_actual"
   ]
  },
  {
   "cell_type": "code",
   "execution_count": 40,
   "id": "d1e5fe69",
   "metadata": {},
   "outputs": [
    {
     "data": {
      "text/plain": [
       "0.02656209223677118"
      ]
     },
     "execution_count": 40,
     "metadata": {},
     "output_type": "execute_result"
    }
   ],
   "source": [
    "rmse = rmse(predicted_vs_actual['price'], predicted_vs_actual['predicted_price'])\n",
    "rmse"
   ]
  },
  {
   "cell_type": "code",
   "execution_count": 41,
   "id": "96c2a486",
   "metadata": {
    "scrolled": false
   },
   "outputs": [
    {
     "data": {
      "image/png": "[encoded data removed]",
      "text/plain": [
       "<Figure size 720x720 with 1 Axes>"
      ]
     },
     "metadata": {},
     "output_type": "display_data"
    }
   ],
   "source": [
    "#Plotting the predicted prices vs actual prices\n",
    "plt.rcParams['figure.figsize'] = [10, 10]\n",
    "plt.scatter(predicted_vs_actual['date'],predicted_vs_actual['predicted_price'],label='Predicted Prices')\n",
    "plt.scatter(predicted_vs_actual['date'],predicted_vs_actual['price'],label='Actual Prices')\n",
    "plt.title('Predicted Prices vs Actual Prices')\n",
    "plt.xlabel('Dates')\n",
    "plt.ylabel('Prices(USD)')\n",
    "plt.legend()\n",
    "plt.gcf().autofmt_xdate()\n",
    "plt.show()"
   ]
  },
  {
   "cell_type": "markdown",
   "id": "febf1dd3",
   "metadata": {},
   "source": [
    "The model seems to be predicting the prices from 2020-01 to 2021-01 as a straight line which does not represent the data at all. From 2021-01 onwards the model seems to be performing better"
   ]
  },
  {
   "cell_type": "markdown",
   "id": "4b02d2f7",
   "metadata": {},
   "source": [
    "Even though our initial objective was not to plot this graph, it still shows a good representation of how the model performs. Remember that we wanted to test if there was evidence to suggest that the price of SLP was explained by the burning and minted mechanisms of the coin. We found strong evidence to suggest that, but if we wanted to predict the price of SLP with higher accuracy we would need more information, and we would want to build a forecast model, not a regression model. \n",
    "\n",
    "Model Stats:\n",
    "- Adjusted R-Squared: 0.734\n",
    "- MSE: 0.0265"
   ]
  },
  {
   "cell_type": "markdown",
   "id": "bb294253",
   "metadata": {},
   "source": [
    "Overall I am satisfied with how the project turned out. In the future I would like to revisit this project with these things in mind:\n",
    "\n",
    "- More attributes\n",
    "- More records\n",
    "- Build different models and compare the accuracy of each\n",
    "- Tune the preferred model\n",
    "- Build a forecast model with the information gathered to better predict the price of SLP in the future\n",
    "- The stats model package still flagged the model as having multicollinearity. In the future, explore the reason as to why, and try other approaches such as ridge regression."
   ]
  },
  {
   "cell_type": "code",
   "execution_count": null,
   "id": "7ba3e5fc",
   "metadata": {},
   "outputs": [],
   "source": []
  }
 ],
 "metadata": {
  "kernelspec": {
   "display_name": "Python 3 (ipykernel)",
   "language": "python",
   "name": "python3"
  },
  "language_info": {
   "codemirror_mode": {
    "name": "ipython",
    "version": 3
   },
   "file_extension": ".py",
   "mimetype": "text/x-python",
   "name": "python",
   "nbconvert_exporter": "python",
   "pygments_lexer": "ipython3",
   "version": "3.8.11"
  }
 },
 "nbformat": 4,
 "nbformat_minor": 5
}
